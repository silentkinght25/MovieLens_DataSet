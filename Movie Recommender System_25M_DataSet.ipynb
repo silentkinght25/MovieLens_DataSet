{
 "cells": [
  {
   "cell_type": "code",
   "execution_count": 2,
   "id": "fbe9c887-a461-48b5-8a7f-337a2a5b1390",
   "metadata": {},
   "outputs": [],
   "source": [
    "#Import all libraries that will be used\n",
    "import pandas as pd\n",
    "import numpy as np"
   ]
  },
  {
   "cell_type": "code",
   "execution_count": 3,
   "id": "4e639473-3f7e-47a6-8d7b-8294a57dbfd8",
   "metadata": {},
   "outputs": [],
   "source": [
    "import warnings\n",
    "from warnings import filterwarnings\n",
    "filterwarnings('ignore')"
   ]
  },
  {
   "cell_type": "code",
   "execution_count": 4,
   "id": "59de8263-1a1f-4c87-ab39-89698b8df93a",
   "metadata": {},
   "outputs": [],
   "source": [
    "#load the ratings and movies file into the dataframe\n",
    "ratings = pd.read_csv('ratings.csv')\n",
    "movies = pd.read_csv('movies.csv')"
   ]
  },
  {
   "cell_type": "code",
   "execution_count": 5,
   "id": "eb1234ef-b4a1-42ed-a935-3cc7bf471ccc",
   "metadata": {},
   "outputs": [
    {
     "data": {
      "text/html": [
       "<div>\n",
       "<style scoped>\n",
       "    .dataframe tbody tr th:only-of-type {\n",
       "        vertical-align: middle;\n",
       "    }\n",
       "\n",
       "    .dataframe tbody tr th {\n",
       "        vertical-align: top;\n",
       "    }\n",
       "\n",
       "    .dataframe thead th {\n",
       "        text-align: right;\n",
       "    }\n",
       "</style>\n",
       "<table border=\"1\" class=\"dataframe\">\n",
       "  <thead>\n",
       "    <tr style=\"text-align: right;\">\n",
       "      <th></th>\n",
       "      <th>movieId</th>\n",
       "      <th>title</th>\n",
       "      <th>genres</th>\n",
       "    </tr>\n",
       "  </thead>\n",
       "  <tbody>\n",
       "    <tr>\n",
       "      <th>0</th>\n",
       "      <td>1</td>\n",
       "      <td>Toy Story (1995)</td>\n",
       "      <td>Adventure|Animation|Children|Comedy|Fantasy</td>\n",
       "    </tr>\n",
       "    <tr>\n",
       "      <th>1</th>\n",
       "      <td>2</td>\n",
       "      <td>Jumanji (1995)</td>\n",
       "      <td>Adventure|Children|Fantasy</td>\n",
       "    </tr>\n",
       "    <tr>\n",
       "      <th>2</th>\n",
       "      <td>3</td>\n",
       "      <td>Grumpier Old Men (1995)</td>\n",
       "      <td>Comedy|Romance</td>\n",
       "    </tr>\n",
       "    <tr>\n",
       "      <th>3</th>\n",
       "      <td>4</td>\n",
       "      <td>Waiting to Exhale (1995)</td>\n",
       "      <td>Comedy|Drama|Romance</td>\n",
       "    </tr>\n",
       "    <tr>\n",
       "      <th>4</th>\n",
       "      <td>5</td>\n",
       "      <td>Father of the Bride Part II (1995)</td>\n",
       "      <td>Comedy</td>\n",
       "    </tr>\n",
       "  </tbody>\n",
       "</table>\n",
       "</div>"
      ],
      "text/plain": [
       "   movieId                               title  \\\n",
       "0        1                    Toy Story (1995)   \n",
       "1        2                      Jumanji (1995)   \n",
       "2        3             Grumpier Old Men (1995)   \n",
       "3        4            Waiting to Exhale (1995)   \n",
       "4        5  Father of the Bride Part II (1995)   \n",
       "\n",
       "                                        genres  \n",
       "0  Adventure|Animation|Children|Comedy|Fantasy  \n",
       "1                   Adventure|Children|Fantasy  \n",
       "2                               Comedy|Romance  \n",
       "3                         Comedy|Drama|Romance  \n",
       "4                                       Comedy  "
      ]
     },
     "execution_count": 5,
     "metadata": {},
     "output_type": "execute_result"
    }
   ],
   "source": [
    "movies.head()"
   ]
  },
  {
   "cell_type": "code",
   "execution_count": 6,
   "id": "37f2c3b4-8f85-40cc-881a-6a4df255e1f6",
   "metadata": {},
   "outputs": [
    {
     "data": {
      "text/html": [
       "<div>\n",
       "<style scoped>\n",
       "    .dataframe tbody tr th:only-of-type {\n",
       "        vertical-align: middle;\n",
       "    }\n",
       "\n",
       "    .dataframe tbody tr th {\n",
       "        vertical-align: top;\n",
       "    }\n",
       "\n",
       "    .dataframe thead th {\n",
       "        text-align: right;\n",
       "    }\n",
       "</style>\n",
       "<table border=\"1\" class=\"dataframe\">\n",
       "  <thead>\n",
       "    <tr style=\"text-align: right;\">\n",
       "      <th></th>\n",
       "      <th>userId</th>\n",
       "      <th>movieId</th>\n",
       "      <th>rating</th>\n",
       "      <th>timestamp</th>\n",
       "    </tr>\n",
       "  </thead>\n",
       "  <tbody>\n",
       "    <tr>\n",
       "      <th>0</th>\n",
       "      <td>1</td>\n",
       "      <td>296</td>\n",
       "      <td>5.0</td>\n",
       "      <td>1147880044</td>\n",
       "    </tr>\n",
       "    <tr>\n",
       "      <th>1</th>\n",
       "      <td>1</td>\n",
       "      <td>306</td>\n",
       "      <td>3.5</td>\n",
       "      <td>1147868817</td>\n",
       "    </tr>\n",
       "    <tr>\n",
       "      <th>2</th>\n",
       "      <td>1</td>\n",
       "      <td>307</td>\n",
       "      <td>5.0</td>\n",
       "      <td>1147868828</td>\n",
       "    </tr>\n",
       "    <tr>\n",
       "      <th>3</th>\n",
       "      <td>1</td>\n",
       "      <td>665</td>\n",
       "      <td>5.0</td>\n",
       "      <td>1147878820</td>\n",
       "    </tr>\n",
       "    <tr>\n",
       "      <th>4</th>\n",
       "      <td>1</td>\n",
       "      <td>899</td>\n",
       "      <td>3.5</td>\n",
       "      <td>1147868510</td>\n",
       "    </tr>\n",
       "  </tbody>\n",
       "</table>\n",
       "</div>"
      ],
      "text/plain": [
       "   userId  movieId  rating   timestamp\n",
       "0       1      296     5.0  1147880044\n",
       "1       1      306     3.5  1147868817\n",
       "2       1      307     5.0  1147868828\n",
       "3       1      665     5.0  1147878820\n",
       "4       1      899     3.5  1147868510"
      ]
     },
     "execution_count": 6,
     "metadata": {},
     "output_type": "execute_result"
    }
   ],
   "source": [
    "ratings.head()"
   ]
  },
  {
   "cell_type": "code",
   "execution_count": 7,
   "id": "0f892306-2ec1-4c5c-b6f9-f81da2931849",
   "metadata": {},
   "outputs": [
    {
     "data": {
      "text/html": [
       "<div>\n",
       "<style scoped>\n",
       "    .dataframe tbody tr th:only-of-type {\n",
       "        vertical-align: middle;\n",
       "    }\n",
       "\n",
       "    .dataframe tbody tr th {\n",
       "        vertical-align: top;\n",
       "    }\n",
       "\n",
       "    .dataframe thead th {\n",
       "        text-align: right;\n",
       "    }\n",
       "</style>\n",
       "<table border=\"1\" class=\"dataframe\">\n",
       "  <thead>\n",
       "    <tr style=\"text-align: right;\">\n",
       "      <th></th>\n",
       "      <th>movieId</th>\n",
       "      <th>title</th>\n",
       "      <th>genres</th>\n",
       "      <th>userId</th>\n",
       "      <th>rating</th>\n",
       "    </tr>\n",
       "  </thead>\n",
       "  <tbody>\n",
       "    <tr>\n",
       "      <th>0</th>\n",
       "      <td>1</td>\n",
       "      <td>Toy Story (1995)</td>\n",
       "      <td>Adventure|Animation|Children|Comedy|Fantasy</td>\n",
       "      <td>2</td>\n",
       "      <td>3.5</td>\n",
       "    </tr>\n",
       "    <tr>\n",
       "      <th>1</th>\n",
       "      <td>1</td>\n",
       "      <td>Toy Story (1995)</td>\n",
       "      <td>Adventure|Animation|Children|Comedy|Fantasy</td>\n",
       "      <td>3</td>\n",
       "      <td>4.0</td>\n",
       "    </tr>\n",
       "    <tr>\n",
       "      <th>2</th>\n",
       "      <td>1</td>\n",
       "      <td>Toy Story (1995)</td>\n",
       "      <td>Adventure|Animation|Children|Comedy|Fantasy</td>\n",
       "      <td>4</td>\n",
       "      <td>3.0</td>\n",
       "    </tr>\n",
       "    <tr>\n",
       "      <th>3</th>\n",
       "      <td>1</td>\n",
       "      <td>Toy Story (1995)</td>\n",
       "      <td>Adventure|Animation|Children|Comedy|Fantasy</td>\n",
       "      <td>5</td>\n",
       "      <td>4.0</td>\n",
       "    </tr>\n",
       "    <tr>\n",
       "      <th>4</th>\n",
       "      <td>1</td>\n",
       "      <td>Toy Story (1995)</td>\n",
       "      <td>Adventure|Animation|Children|Comedy|Fantasy</td>\n",
       "      <td>8</td>\n",
       "      <td>4.0</td>\n",
       "    </tr>\n",
       "  </tbody>\n",
       "</table>\n",
       "</div>"
      ],
      "text/plain": [
       "   movieId             title                                       genres  \\\n",
       "0        1  Toy Story (1995)  Adventure|Animation|Children|Comedy|Fantasy   \n",
       "1        1  Toy Story (1995)  Adventure|Animation|Children|Comedy|Fantasy   \n",
       "2        1  Toy Story (1995)  Adventure|Animation|Children|Comedy|Fantasy   \n",
       "3        1  Toy Story (1995)  Adventure|Animation|Children|Comedy|Fantasy   \n",
       "4        1  Toy Story (1995)  Adventure|Animation|Children|Comedy|Fantasy   \n",
       "\n",
       "   userId  rating  \n",
       "0       2     3.5  \n",
       "1       3     4.0  \n",
       "2       4     3.0  \n",
       "3       5     4.0  \n",
       "4       8     4.0  "
      ]
     },
     "execution_count": 7,
     "metadata": {},
     "output_type": "execute_result"
    }
   ],
   "source": [
    "movie_ratings = pd.merge(movies,ratings, on='movieId', how='inner')\n",
    "movie_ratings.drop('timestamp', axis=1, inplace=True)\n",
    "movie_ratings.head()"
   ]
  },
  {
   "cell_type": "code",
   "execution_count": 8,
   "id": "1305191e-95f6-45b1-a4d1-1519a191c893",
   "metadata": {},
   "outputs": [
    {
     "data": {
      "text/html": [
       "<div>\n",
       "<style scoped>\n",
       "    .dataframe tbody tr th:only-of-type {\n",
       "        vertical-align: middle;\n",
       "    }\n",
       "\n",
       "    .dataframe tbody tr th {\n",
       "        vertical-align: top;\n",
       "    }\n",
       "\n",
       "    .dataframe thead th {\n",
       "        text-align: right;\n",
       "    }\n",
       "</style>\n",
       "<table border=\"1\" class=\"dataframe\">\n",
       "  <thead>\n",
       "    <tr style=\"text-align: right;\">\n",
       "      <th></th>\n",
       "      <th>count</th>\n",
       "      <th>mean</th>\n",
       "    </tr>\n",
       "    <tr>\n",
       "      <th>title</th>\n",
       "      <th></th>\n",
       "      <th></th>\n",
       "    </tr>\n",
       "  </thead>\n",
       "  <tbody>\n",
       "    <tr>\n",
       "      <th>\"BLOW THE NIGHT!\" Let's Spend the Night Together (1983)</th>\n",
       "      <td>1</td>\n",
       "      <td>3.0</td>\n",
       "    </tr>\n",
       "    <tr>\n",
       "      <th>\"Great Performances\" Cats (1998)</th>\n",
       "      <td>179</td>\n",
       "      <td>2.9</td>\n",
       "    </tr>\n",
       "    <tr>\n",
       "      <th>#1 Cheerleader Camp (2010)</th>\n",
       "      <td>9</td>\n",
       "      <td>2.1</td>\n",
       "    </tr>\n",
       "    <tr>\n",
       "      <th>#Captured (2017)</th>\n",
       "      <td>2</td>\n",
       "      <td>3.8</td>\n",
       "    </tr>\n",
       "    <tr>\n",
       "      <th>#Female Pleasure (2018)</th>\n",
       "      <td>3</td>\n",
       "      <td>3.7</td>\n",
       "    </tr>\n",
       "  </tbody>\n",
       "</table>\n",
       "</div>"
      ],
      "text/plain": [
       "                                                    count  mean\n",
       "title                                                          \n",
       "\"BLOW THE NIGHT!\" Let's Spend the Night Togethe...      1   3.0\n",
       "\"Great Performances\" Cats (1998)                      179   2.9\n",
       "#1 Cheerleader Camp (2010)                              9   2.1\n",
       "#Captured (2017)                                        2   3.8\n",
       "#Female Pleasure (2018)                                 3   3.7"
      ]
     },
     "execution_count": 8,
     "metadata": {},
     "output_type": "execute_result"
    }
   ],
   "source": [
    "#movie_rating_df = \n",
    "reviews = movie_ratings.groupby(['title'])['rating'].agg(['count','mean']).round(1)\n",
    "reviews.head()"
   ]
  },
  {
   "cell_type": "code",
   "execution_count": 9,
   "id": "14a9807c-4a9d-4239-b6cf-d71fa64f1441",
   "metadata": {},
   "outputs": [
    {
     "data": {
      "text/plain": [
       "(25000095, 5)"
      ]
     },
     "execution_count": 9,
     "metadata": {},
     "output_type": "execute_result"
    }
   ],
   "source": [
    "movie_ratings.shape"
   ]
  },
  {
   "cell_type": "code",
   "execution_count": 10,
   "id": "51a2adb4-b405-4fbf-83ac-51fc9c4078eb",
   "metadata": {},
   "outputs": [
    {
     "name": "stdout",
     "output_type": "stream",
     "text": [
      "<class 'pandas.core.frame.DataFrame'>\n",
      "Int64Index: 25000095 entries, 0 to 25000094\n",
      "Data columns (total 5 columns):\n",
      " #   Column   Dtype  \n",
      "---  ------   -----  \n",
      " 0   movieId  int64  \n",
      " 1   title    object \n",
      " 2   genres   object \n",
      " 3   userId   int64  \n",
      " 4   rating   float64\n",
      "dtypes: float64(1), int64(2), object(2)\n",
      "memory usage: 4.5 GB\n"
     ]
    }
   ],
   "source": [
    "#movie_ratings.info(memory_usage='deep')"
   ]
  },
  {
   "cell_type": "code",
   "execution_count": 11,
   "id": "5f0e8ff4-268c-4c7f-a250-5519eec988ff",
   "metadata": {},
   "outputs": [
    {
     "data": {
      "text/html": [
       "<div>\n",
       "<style scoped>\n",
       "    .dataframe tbody tr th:only-of-type {\n",
       "        vertical-align: middle;\n",
       "    }\n",
       "\n",
       "    .dataframe tbody tr th {\n",
       "        vertical-align: top;\n",
       "    }\n",
       "\n",
       "    .dataframe thead th {\n",
       "        text-align: right;\n",
       "    }\n",
       "</style>\n",
       "<table border=\"1\" class=\"dataframe\">\n",
       "  <thead>\n",
       "    <tr style=\"text-align: right;\">\n",
       "      <th></th>\n",
       "      <th>movieId</th>\n",
       "      <th>userId</th>\n",
       "      <th>rating</th>\n",
       "    </tr>\n",
       "  </thead>\n",
       "  <tbody>\n",
       "    <tr>\n",
       "      <th>count</th>\n",
       "      <td>25000095.0</td>\n",
       "      <td>25000095.0</td>\n",
       "      <td>25000095.0</td>\n",
       "    </tr>\n",
       "    <tr>\n",
       "      <th>mean</th>\n",
       "      <td>21388.0</td>\n",
       "      <td>81189.0</td>\n",
       "      <td>4.0</td>\n",
       "    </tr>\n",
       "    <tr>\n",
       "      <th>std</th>\n",
       "      <td>39199.0</td>\n",
       "      <td>46792.0</td>\n",
       "      <td>1.0</td>\n",
       "    </tr>\n",
       "    <tr>\n",
       "      <th>min</th>\n",
       "      <td>1.0</td>\n",
       "      <td>1.0</td>\n",
       "      <td>0.0</td>\n",
       "    </tr>\n",
       "    <tr>\n",
       "      <th>25%</th>\n",
       "      <td>1196.0</td>\n",
       "      <td>40510.0</td>\n",
       "      <td>3.0</td>\n",
       "    </tr>\n",
       "    <tr>\n",
       "      <th>50%</th>\n",
       "      <td>2947.0</td>\n",
       "      <td>80914.0</td>\n",
       "      <td>4.0</td>\n",
       "    </tr>\n",
       "    <tr>\n",
       "      <th>75%</th>\n",
       "      <td>8623.0</td>\n",
       "      <td>121557.0</td>\n",
       "      <td>4.0</td>\n",
       "    </tr>\n",
       "    <tr>\n",
       "      <th>max</th>\n",
       "      <td>209171.0</td>\n",
       "      <td>162541.0</td>\n",
       "      <td>5.0</td>\n",
       "    </tr>\n",
       "  </tbody>\n",
       "</table>\n",
       "</div>"
      ],
      "text/plain": [
       "          movieId      userId      rating\n",
       "count  25000095.0  25000095.0  25000095.0\n",
       "mean      21388.0     81189.0         4.0\n",
       "std       39199.0     46792.0         1.0\n",
       "min           1.0         1.0         0.0\n",
       "25%        1196.0     40510.0         3.0\n",
       "50%        2947.0     80914.0         4.0\n",
       "75%        8623.0    121557.0         4.0\n",
       "max      209171.0    162541.0         5.0"
      ]
     },
     "execution_count": 11,
     "metadata": {},
     "output_type": "execute_result"
    }
   ],
   "source": [
    "#movie_ratings.describe().round()"
   ]
  },
  {
   "cell_type": "code",
   "execution_count": 12,
   "id": "6b9bf8cb-d7a5-4321-968a-af2d3bc7814a",
   "metadata": {},
   "outputs": [],
   "source": [
    "movie_ratings=movie_ratings.astype({'movieId':'int32','userId':'int32','genres':'category'})"
   ]
  },
  {
   "cell_type": "code",
   "execution_count": 13,
   "id": "b76bc9b1-1ce5-4416-8c7f-f54bca0a790c",
   "metadata": {
    "tags": []
   },
   "outputs": [],
   "source": [
    "#mov = pd.crosstab(index=movie_ratings['userId'], columns=movie_ratings['title'],values=movie_ratings['rating'], aggfunc='sum')"
   ]
  },
  {
   "cell_type": "code",
   "execution_count": null,
   "id": "67e84962-ac1c-497e-9cee-1d768e3d3697",
   "metadata": {},
   "outputs": [],
   "source": []
  },
  {
   "cell_type": "code",
   "execution_count": 14,
   "id": "49e86668-62f4-4d6f-b098-6476face9499",
   "metadata": {},
   "outputs": [
    {
     "data": {
      "text/plain": [
       "(25000095, 5)"
      ]
     },
     "execution_count": 14,
     "metadata": {},
     "output_type": "execute_result"
    }
   ],
   "source": [
    "movie_ratings.shape"
   ]
  },
  {
   "cell_type": "code",
   "execution_count": 15,
   "id": "57602f5b-afca-4f0f-b592-96ec0779f4cd",
   "metadata": {},
   "outputs": [
    {
     "data": {
      "text/plain": [
       "(25000095, 4)"
      ]
     },
     "execution_count": 15,
     "metadata": {},
     "output_type": "execute_result"
    }
   ],
   "source": [
    "ratings.shape"
   ]
  },
  {
   "cell_type": "code",
   "execution_count": 16,
   "id": "9d3c63dd-47ba-4972-9d43-29fd7759dcf7",
   "metadata": {},
   "outputs": [
    {
     "data": {
      "text/plain": [
       "userId         162541\n",
       "movieId         59047\n",
       "rating             10\n",
       "timestamp    20115267\n",
       "dtype: int64"
      ]
     },
     "execution_count": 16,
     "metadata": {},
     "output_type": "execute_result"
    }
   ],
   "source": [
    "ratings.nunique()"
   ]
  },
  {
   "cell_type": "code",
   "execution_count": 17,
   "id": "9c24b3f6-8fb2-446c-9557-758e5744199b",
   "metadata": {},
   "outputs": [
    {
     "data": {
      "text/plain": [
       "userId       0\n",
       "movieId      0\n",
       "rating       0\n",
       "timestamp    0\n",
       "dtype: int64"
      ]
     },
     "execution_count": 17,
     "metadata": {},
     "output_type": "execute_result"
    }
   ],
   "source": [
    "ratings.isna().sum()"
   ]
  },
  {
   "cell_type": "code",
   "execution_count": 18,
   "id": "c3f42a60-09a6-4118-9772-173a45240cb1",
   "metadata": {
    "tags": [
     "vc"
    ]
   },
   "outputs": [],
   "source": [
    "#movie_ratings.nunique()"
   ]
  },
  {
   "cell_type": "code",
   "execution_count": 19,
   "id": "f624d121-95d5-4978-a346-cb33638869ce",
   "metadata": {},
   "outputs": [
    {
     "data": {
      "text/plain": [
       "72315     32202\n",
       "80974      9178\n",
       "137293     8913\n",
       "33844      7919\n",
       "20055      7488\n",
       "          ...  \n",
       "127695       20\n",
       "152765       20\n",
       "90815        20\n",
       "70828        20\n",
       "141949       20\n",
       "Name: userId, Length: 162541, dtype: int64"
      ]
     },
     "execution_count": 19,
     "metadata": {},
     "output_type": "execute_result"
    }
   ],
   "source": [
    "user_counts = movie_ratings['userId'].value_counts()\n",
    "user_counts"
   ]
  },
  {
   "cell_type": "code",
   "execution_count": 20,
   "id": "9b690ab9-597a-47da-b38a-2aa870025411",
   "metadata": {},
   "outputs": [
    {
     "data": {
      "text/plain": [
       "Int64Index([ 72315,  80974, 137293,  33844,  20055, 109731,  92046,  49403,\n",
       "             30879, 115102,\n",
       "            ...\n",
       "            151863, 112112,  75766, 127773, 111735, 127695, 152765,  90815,\n",
       "             70828, 141949],\n",
       "           dtype='int64', length=162541)"
      ]
     },
     "execution_count": 20,
     "metadata": {},
     "output_type": "execute_result"
    }
   ],
   "source": [
    "valid_user_ids = user_counts[user_counts > 0].index\n",
    "valid_user_ids"
   ]
  },
  {
   "cell_type": "code",
   "execution_count": 21,
   "id": "44617ed7-3f1e-4c6d-b13d-da3026a34c67",
   "metadata": {},
   "outputs": [],
   "source": [
    "filtered_ratings = movie_ratings[movie_ratings['userId'].isin(valid_user_ids)]"
   ]
  },
  {
   "cell_type": "code",
   "execution_count": 22,
   "id": "3cc95057-ffdc-4d13-8fa1-6adcd62a5a00",
   "metadata": {},
   "outputs": [
    {
     "data": {
      "text/plain": [
       "33"
      ]
     },
     "execution_count": 22,
     "metadata": {},
     "output_type": "execute_result"
    }
   ],
   "source": [
    "batch_size = 5000  # Set the batch size, produces best result when batch size is between 4000 - 5000 for my system\n",
    "total_users = len(valid_user_ids)\n",
    "num_batches = total_users // batch_size + 1\n",
    "num_batches"
   ]
  },
  {
   "cell_type": "markdown",
   "id": "e2ef2e0c-9f78-4f0a-8ef2-697dffd89091",
   "metadata": {},
   "source": [
    "##### The error you're encountering, \"MemoryError: Unable to allocate 469. KiB for an array with shape (6, 10000) and data type float64,\" indicates that your code is running out of memory while trying to allocate memory for an array with shape (6, 10000) and data type float64.\n",
    "##### The issue is most likely caused by the concatenation of DataFrames mov and batch_mov inside the loop. As the loop progresses, the mov DataFrame keeps growing as you concatenate more batches, eventually causing a memory error.\n",
    "\n",
    "##### To resolve this issue, you can modify your code to append each batch to a list and then concatenate them outside the loop. \n",
    "##### Here's an updated version of your code that avoids the memory error:"
   ]
  },
  {
   "cell_type": "code",
   "execution_count": 24,
   "id": "d7231578-41bb-444f-aad8-bae7eeaf05c9",
   "metadata": {},
   "outputs": [],
   "source": [
    "output_dir = r\"batch_files/\"  # Specify the directory to store the sets"
   ]
  },
  {
   "cell_type": "code",
   "execution_count": 31,
   "id": "a6228cf8-5171-4535-8a30-27c549ff2348",
   "metadata": {},
   "outputs": [
    {
     "name": "stdout",
     "output_type": "stream",
     "text": [
      "Running batch no: 0\n",
      "Writing batch no (0) to disk\n",
      "Running batch no: 1\n",
      "Writing batch no (1) to disk\n",
      "Running batch no: 2\n",
      "Writing batch no (2) to disk\n",
      "Running batch no: 3\n",
      "Writing batch no (3) to disk\n",
      "Running batch no: 4\n",
      "Writing batch no (4) to disk\n",
      "Running batch no: 5\n",
      "Writing batch no (5) to disk\n",
      "Running batch no: 6\n",
      "Writing batch no (6) to disk\n",
      "Running batch no: 7\n",
      "Writing batch no (7) to disk\n",
      "Running batch no: 8\n",
      "Writing batch no (8) to disk\n",
      "Running batch no: 9\n",
      "Writing batch no (9) to disk\n",
      "Running batch no: 10\n",
      "Writing batch no (10) to disk\n",
      "Running batch no: 11\n",
      "Writing batch no (11) to disk\n",
      "Running batch no: 12\n",
      "Writing batch no (12) to disk\n",
      "Running batch no: 13\n",
      "Writing batch no (13) to disk\n",
      "Running batch no: 14\n",
      "Writing batch no (14) to disk\n",
      "Running batch no: 15\n",
      "Writing batch no (15) to disk\n",
      "Running batch no: 16\n",
      "Writing batch no (16) to disk\n",
      "Running batch no: 17\n",
      "Writing batch no (17) to disk\n",
      "Running batch no: 18\n",
      "Writing batch no (18) to disk\n",
      "Running batch no: 19\n",
      "Writing batch no (19) to disk\n",
      "Running batch no: 20\n",
      "Writing batch no (20) to disk\n",
      "Running batch no: 21\n",
      "Writing batch no (21) to disk\n",
      "Running batch no: 22\n",
      "Writing batch no (22) to disk\n",
      "Running batch no: 23\n",
      "Writing batch no (23) to disk\n",
      "Running batch no: 24\n",
      "Writing batch no (24) to disk\n",
      "Running batch no: 25\n",
      "Writing batch no (25) to disk\n",
      "Running batch no: 26\n",
      "Writing batch no (26) to disk\n",
      "Running batch no: 27\n",
      "Writing batch no (27) to disk\n",
      "Running batch no: 28\n",
      "Writing batch no (28) to disk\n",
      "Running batch no: 29\n",
      "Writing batch no (29) to disk\n",
      "Running batch no: 30\n",
      "Writing batch no (30) to disk\n",
      "Running batch no: 31\n",
      "Writing batch no (31) to disk\n",
      "Running batch no: 32\n",
      "Writing batch no (32) to disk\n"
     ]
    }
   ],
   "source": [
    "# create the pivot table in batches of 5000\n",
    "#When processing a large dataset of 4GB, \n",
    "#the pivot_table function is generally more efficient than the crosstab function in Python.\n",
    "\n",
    "#we can further reduce memory consumption by storing the intermediate results on disk \n",
    "#instead of keeping them all in memory. One approach is to save each batch of the pivot table \n",
    "#to a separate file and read them later for concatenation.\n",
    "\n",
    "output_dir = r\"batch_files/\"  # Specify the directory to store the sets\n",
    "\n",
    "for i in range(num_batches):\n",
    "    start_index = i * batch_size\n",
    "    end_index = start_index + batch_size\n",
    "    batch_users = valid_user_ids[start_index:end_index]\n",
    "    print(\"Running batch no: \" + str(i))\n",
    "\n",
    "    batch_mov = filtered_ratings[filtered_ratings['userId'].isin(batch_users)].pivot_table(\n",
    "        index='userId',\n",
    "        columns='title',\n",
    "        values='rating',\n",
    "        aggfunc='sum'\n",
    "    ).astype('float32')  # Convert to float32 to save memory\n",
    "\n",
    "    print(\"Writing batch no (\" + str(i) + \") to disk\")\n",
    "    batch_mov.to_csv(output_dir + f\"batch_{i}.csv\", index=False)  # Write each batch to disk as a separate file\n"
   ]
  },
  {
   "cell_type": "code",
   "execution_count": null,
   "id": "e71e9a46-2bf7-4949-bb64-ecf3a1393496",
   "metadata": {},
   "outputs": [],
   "source": [
    "user_rating_list = []  # Re-initialize the list to store DataFrames\n",
    "\n",
    "for i in range(num_batches):\n",
    "    #print(\"Loading batch no (\" + str(i) + \") from disk\")\n",
    "    batch_mov = pd.read_csv(output_dir + f\"batch_{i}.csv\")\n",
    "    user_rating_list.append(batch_mov)  # Append each batch DataFrame to the list\n",
    "    if i % 5==0:\n",
    "        #print(\"Appending batch no (\" + str(i) + \") to user_rating\")\n",
    "        user_rating.append(user_rating_list)\n",
    "        user_rating_list = []\n",
    "\n",
    "#user_rating = pd.concat(user_rating_list, ignore_index=True)  # Concatenate all DataFrames from the list"
   ]
  },
  {
   "cell_type": "code",
   "execution_count": 25,
   "id": "872e6838-1b5a-4d57-8518-6adbd37b2a47",
   "metadata": {},
   "outputs": [],
   "source": [
    "# we will recommend movies based on below 3 movies\n",
    "userInput = [\"300 Spartans, The (1962)\", \"2 Fast 2 Furious (2003)\", \"12 Angry Men (1957)\"]"
   ]
  },
  {
   "cell_type": "code",
   "execution_count": 55,
   "id": "0b4d9435-179b-4b8f-b26f-5beb0eefe853",
   "metadata": {},
   "outputs": [
    {
     "data": {
      "text/plain": [
       "title\n",
       "\"Great Performances\" Cats (1998)                      NaN\n",
       "'Round Midnight (1986)                          -0.500000\n",
       "'Til There Was You (1997)                             NaN\n",
       "'burbs, The (1989)                               0.866025\n",
       "'night Mother (1986)                                  NaN\n",
       "                                                   ...   \n",
       "Dischord (2001)                                       NaN\n",
       "Down and Derby (2005)                                 NaN\n",
       "Jails, Hospitals & Hip-Hop (2000)                     NaN\n",
       "Fists in the Pocket (I Pugni in tasca) (1965)         NaN\n",
       "Stacy's Knights (1982)                                NaN\n",
       "Length: 10676, dtype: float64"
      ]
     },
     "execution_count": 55,
     "metadata": {},
     "output_type": "execute_result"
    }
   ],
   "source": [
    "user_rating.corrwith(user_rating[userInput[0]], method='pearson')"
   ]
  },
  {
   "cell_type": "code",
   "execution_count": 56,
   "id": "ddc24a42-43ac-4158-8791-1cbb0c46e865",
   "metadata": {},
   "outputs": [
    {
     "data": {
      "text/plain": [
       "title\n",
       "\"Great Performances\" Cats (1998)                 1.000000\n",
       "'Round Midnight (1986)                           0.429263\n",
       "'Til There Was You (1997)                        0.051933\n",
       "'burbs, The (1989)                               0.094722\n",
       "'night Mother (1986)                             0.258762\n",
       "                                                   ...   \n",
       "Dischord (2001)                                       NaN\n",
       "Down and Derby (2005)                                 NaN\n",
       "Jails, Hospitals & Hip-Hop (2000)                     NaN\n",
       "Fists in the Pocket (I Pugni in tasca) (1965)         NaN\n",
       "Stacy's Knights (1982)                                NaN\n",
       "Length: 10676, dtype: float64"
      ]
     },
     "execution_count": 56,
     "metadata": {},
     "output_type": "execute_result"
    }
   ],
   "source": [
    "similarity = user_rating.corrwith(user_rating[userInput[0]], method = 'pearson') \n",
    "+ user_rating.corrwith(user_rating[userInput[1]], method = 'pearson') \n",
    "+ user_rating.corrwith(user_rating[userInput[2]], method = 'pearson')"
   ]
  },
  {
   "cell_type": "code",
   "execution_count": 58,
   "id": "49c75317-cf56-4c34-84a0-f611ed89007f",
   "metadata": {},
   "outputs": [],
   "source": [
    "correlatedMovies = pd.DataFrame(similarity, columns = ['correlation'])\n",
    "correlatedMovies = pd.merge(correlatedMovies, reviews, on = 'title')\n",
    "correlatedMovies = pd.merge(correlatedMovies, movies, on = 'title')"
   ]
  },
  {
   "cell_type": "code",
   "execution_count": 68,
   "id": "4723d42c-1182-4b6d-b1fa-42dbe33e8b40",
   "metadata": {},
   "outputs": [
    {
     "data": {
      "text/html": [
       "<div>\n",
       "<style scoped>\n",
       "    .dataframe tbody tr th:only-of-type {\n",
       "        vertical-align: middle;\n",
       "    }\n",
       "\n",
       "    .dataframe tbody tr th {\n",
       "        vertical-align: top;\n",
       "    }\n",
       "\n",
       "    .dataframe thead th {\n",
       "        text-align: right;\n",
       "    }\n",
       "</style>\n",
       "<table border=\"1\" class=\"dataframe\">\n",
       "  <thead>\n",
       "    <tr style=\"text-align: right;\">\n",
       "      <th></th>\n",
       "      <th>title</th>\n",
       "      <th>correlation</th>\n",
       "      <th>count</th>\n",
       "      <th>mean</th>\n",
       "      <th>movieId</th>\n",
       "      <th>genres</th>\n",
       "    </tr>\n",
       "  </thead>\n",
       "  <tbody>\n",
       "    <tr>\n",
       "      <th>6705</th>\n",
       "      <td>Nausicaä of the Valley of the Winds (Kaze no t...</td>\n",
       "      <td>1.0</td>\n",
       "      <td>958</td>\n",
       "      <td>4.1</td>\n",
       "      <td>7099</td>\n",
       "      <td>Adventure|Animation|Drama|Fantasy|Sci-Fi</td>\n",
       "    </tr>\n",
       "    <tr>\n",
       "      <th>2656</th>\n",
       "      <td>Discreet Charm of the Bourgeoisie, The (Le Cha...</td>\n",
       "      <td>1.0</td>\n",
       "      <td>365</td>\n",
       "      <td>4.0</td>\n",
       "      <td>6666</td>\n",
       "      <td>Comedy|Drama|Fantasy</td>\n",
       "    </tr>\n",
       "    <tr>\n",
       "      <th>7826</th>\n",
       "      <td>Red Rock West (1992)</td>\n",
       "      <td>1.0</td>\n",
       "      <td>2270</td>\n",
       "      <td>3.8</td>\n",
       "      <td>373</td>\n",
       "      <td>Thriller</td>\n",
       "    </tr>\n",
       "    <tr>\n",
       "      <th>8653</th>\n",
       "      <td>Slaughterhouse-Five (1972)</td>\n",
       "      <td>1.0</td>\n",
       "      <td>327</td>\n",
       "      <td>3.7</td>\n",
       "      <td>8690</td>\n",
       "      <td>Comedy|Drama|Sci-Fi|War</td>\n",
       "    </tr>\n",
       "    <tr>\n",
       "      <th>4984</th>\n",
       "      <td>Jagged Edge (1985)</td>\n",
       "      <td>1.0</td>\n",
       "      <td>941</td>\n",
       "      <td>3.6</td>\n",
       "      <td>3102</td>\n",
       "      <td>Thriller</td>\n",
       "    </tr>\n",
       "    <tr>\n",
       "      <th>1889</th>\n",
       "      <td>Christmas Carol, A (Scrooge) (1951)</td>\n",
       "      <td>1.0</td>\n",
       "      <td>368</td>\n",
       "      <td>3.8</td>\n",
       "      <td>8492</td>\n",
       "      <td>Drama|Fantasy</td>\n",
       "    </tr>\n",
       "    <tr>\n",
       "      <th>1884</th>\n",
       "      <td>Chorus, The (Les Choristes) (2004)</td>\n",
       "      <td>1.0</td>\n",
       "      <td>376</td>\n",
       "      <td>4.0</td>\n",
       "      <td>27815</td>\n",
       "      <td>Drama</td>\n",
       "    </tr>\n",
       "    <tr>\n",
       "      <th>2248</th>\n",
       "      <td>Croupier (1998)</td>\n",
       "      <td>1.0</td>\n",
       "      <td>1186</td>\n",
       "      <td>3.9</td>\n",
       "      <td>3783</td>\n",
       "      <td>Crime|Drama</td>\n",
       "    </tr>\n",
       "    <tr>\n",
       "      <th>3323</th>\n",
       "      <td>Finding Neverland (2004)</td>\n",
       "      <td>1.0</td>\n",
       "      <td>3043</td>\n",
       "      <td>3.9</td>\n",
       "      <td>8970</td>\n",
       "      <td>Drama</td>\n",
       "    </tr>\n",
       "    <tr>\n",
       "      <th>7083</th>\n",
       "      <td>Open Your Eyes (Abre los ojos) (1997)</td>\n",
       "      <td>1.0</td>\n",
       "      <td>1160</td>\n",
       "      <td>3.8</td>\n",
       "      <td>2594</td>\n",
       "      <td>Drama|Romance|Sci-Fi|Thriller</td>\n",
       "    </tr>\n",
       "  </tbody>\n",
       "</table>\n",
       "</div>"
      ],
      "text/plain": [
       "                                                  title  correlation  count  \\\n",
       "6705  Nausicaä of the Valley of the Winds (Kaze no t...          1.0    958   \n",
       "2656  Discreet Charm of the Bourgeoisie, The (Le Cha...          1.0    365   \n",
       "7826                               Red Rock West (1992)          1.0   2270   \n",
       "8653                         Slaughterhouse-Five (1972)          1.0    327   \n",
       "4984                                 Jagged Edge (1985)          1.0    941   \n",
       "1889                Christmas Carol, A (Scrooge) (1951)          1.0    368   \n",
       "1884                 Chorus, The (Les Choristes) (2004)          1.0    376   \n",
       "2248                                    Croupier (1998)          1.0   1186   \n",
       "3323                           Finding Neverland (2004)          1.0   3043   \n",
       "7083              Open Your Eyes (Abre los ojos) (1997)          1.0   1160   \n",
       "\n",
       "      mean  movieId                                    genres  \n",
       "6705   4.1     7099  Adventure|Animation|Drama|Fantasy|Sci-Fi  \n",
       "2656   4.0     6666                      Comedy|Drama|Fantasy  \n",
       "7826   3.8      373                                  Thriller  \n",
       "8653   3.7     8690                   Comedy|Drama|Sci-Fi|War  \n",
       "4984   3.6     3102                                  Thriller  \n",
       "1889   3.8     8492                             Drama|Fantasy  \n",
       "1884   4.0    27815                                     Drama  \n",
       "2248   3.9     3783                               Crime|Drama  \n",
       "3323   3.9     8970                                     Drama  \n",
       "7083   3.8     2594             Drama|Romance|Sci-Fi|Thriller  "
      ]
     },
     "execution_count": 68,
     "metadata": {},
     "output_type": "execute_result"
    }
   ],
   "source": [
    "# as we want most similar movies first order the dataframe based on correlation values highest to lowest\n",
    "\n",
    "# for better recommendation consider movies having more than average rating (3.5 via data analysis)\n",
    "# and have reviews of more than 300  users\n",
    "\n",
    "# we have only displayed top 10 recommendation\n",
    "final_recommendation = correlatedMovies.query('mean>3.5 and count>300').sort_values('correlation', ascending=False)\n",
    "final_recommendation.head(10)"
   ]
  },
  {
   "cell_type": "code",
   "execution_count": 71,
   "id": "7ab020fb-815f-4b89-a52c-3f5ba071b861",
   "metadata": {},
   "outputs": [
    {
     "data": {
      "text/html": [
       "<div>\n",
       "<style scoped>\n",
       "    .dataframe tbody tr th:only-of-type {\n",
       "        vertical-align: middle;\n",
       "    }\n",
       "\n",
       "    .dataframe tbody tr th {\n",
       "        vertical-align: top;\n",
       "    }\n",
       "\n",
       "    .dataframe thead th {\n",
       "        text-align: right;\n",
       "    }\n",
       "</style>\n",
       "<table border=\"1\" class=\"dataframe\">\n",
       "  <thead>\n",
       "    <tr style=\"text-align: right;\">\n",
       "      <th></th>\n",
       "      <th>title</th>\n",
       "      <th>correlation</th>\n",
       "      <th>count</th>\n",
       "      <th>mean</th>\n",
       "      <th>movieId</th>\n",
       "      <th>genres</th>\n",
       "    </tr>\n",
       "  </thead>\n",
       "  <tbody>\n",
       "    <tr>\n",
       "      <th>6705</th>\n",
       "      <td>Nausicaä of the Valley of the Winds (Kaze no t...</td>\n",
       "      <td>1.0</td>\n",
       "      <td>958</td>\n",
       "      <td>4.1</td>\n",
       "      <td>7099</td>\n",
       "      <td>Adventure|Animation|Drama|Fantasy|Sci-Fi</td>\n",
       "    </tr>\n",
       "    <tr>\n",
       "      <th>2656</th>\n",
       "      <td>Discreet Charm of the Bourgeoisie, The (Le Cha...</td>\n",
       "      <td>1.0</td>\n",
       "      <td>365</td>\n",
       "      <td>4.0</td>\n",
       "      <td>6666</td>\n",
       "      <td>Comedy|Drama|Fantasy</td>\n",
       "    </tr>\n",
       "    <tr>\n",
       "      <th>7826</th>\n",
       "      <td>Red Rock West (1992)</td>\n",
       "      <td>1.0</td>\n",
       "      <td>2270</td>\n",
       "      <td>3.8</td>\n",
       "      <td>373</td>\n",
       "      <td>Thriller</td>\n",
       "    </tr>\n",
       "    <tr>\n",
       "      <th>8653</th>\n",
       "      <td>Slaughterhouse-Five (1972)</td>\n",
       "      <td>1.0</td>\n",
       "      <td>327</td>\n",
       "      <td>3.7</td>\n",
       "      <td>8690</td>\n",
       "      <td>Comedy|Drama|Sci-Fi|War</td>\n",
       "    </tr>\n",
       "    <tr>\n",
       "      <th>4984</th>\n",
       "      <td>Jagged Edge (1985)</td>\n",
       "      <td>1.0</td>\n",
       "      <td>941</td>\n",
       "      <td>3.6</td>\n",
       "      <td>3102</td>\n",
       "      <td>Thriller</td>\n",
       "    </tr>\n",
       "  </tbody>\n",
       "</table>\n",
       "</div>"
      ],
      "text/plain": [
       "                                                  title  correlation  count  \\\n",
       "6705  Nausicaä of the Valley of the Winds (Kaze no t...          1.0    958   \n",
       "2656  Discreet Charm of the Bourgeoisie, The (Le Cha...          1.0    365   \n",
       "7826                               Red Rock West (1992)          1.0   2270   \n",
       "8653                         Slaughterhouse-Five (1972)          1.0    327   \n",
       "4984                                 Jagged Edge (1985)          1.0    941   \n",
       "\n",
       "      mean  movieId                                    genres  \n",
       "6705   4.1     7099  Adventure|Animation|Drama|Fantasy|Sci-Fi  \n",
       "2656   4.0     6666                      Comedy|Drama|Fantasy  \n",
       "7826   3.8      373                                  Thriller  \n",
       "8653   3.7     8690                   Comedy|Drama|Sci-Fi|War  \n",
       "4984   3.6     3102                                  Thriller  "
      ]
     },
     "execution_count": 71,
     "metadata": {},
     "output_type": "execute_result"
    }
   ],
   "source": [
    "# Let's remove the recommendation that user has already watched \n",
    "final_recommendation = final_recommendation[np.isin(final_recommendation['title'], userInput, invert=True)]\n",
    "final_recommendation.head()"
   ]
  },
  {
   "cell_type": "code",
   "execution_count": 80,
   "id": "69b28127-b4e5-4803-8be1-3f4932dc7df2",
   "metadata": {},
   "outputs": [
    {
     "data": {
      "text/html": [
       "<div>\n",
       "<style scoped>\n",
       "    .dataframe tbody tr th:only-of-type {\n",
       "        vertical-align: middle;\n",
       "    }\n",
       "\n",
       "    .dataframe tbody tr th {\n",
       "        vertical-align: top;\n",
       "    }\n",
       "\n",
       "    .dataframe thead th {\n",
       "        text-align: right;\n",
       "    }\n",
       "</style>\n",
       "<table border=\"1\" class=\"dataframe\">\n",
       "  <thead>\n",
       "    <tr style=\"text-align: right;\">\n",
       "      <th></th>\n",
       "      <th>Movie Suggestion based on 300 Spartans, The (1962), 2 Fast 2 Furious (2003), 12 Angry Men (1957)</th>\n",
       "      <th>Number of Ratings</th>\n",
       "      <th>Ratings</th>\n",
       "      <th>Genres</th>\n",
       "    </tr>\n",
       "  </thead>\n",
       "  <tbody>\n",
       "    <tr>\n",
       "      <th>6705</th>\n",
       "      <td>Nausicaä of the Valley of the Winds (Kaze no t...</td>\n",
       "      <td>958</td>\n",
       "      <td>4.1</td>\n",
       "      <td>Adventure|Animation|Drama|Fantasy|Sci-Fi</td>\n",
       "    </tr>\n",
       "    <tr>\n",
       "      <th>2656</th>\n",
       "      <td>Discreet Charm of the Bourgeoisie, The (Le Cha...</td>\n",
       "      <td>365</td>\n",
       "      <td>4.0</td>\n",
       "      <td>Comedy|Drama|Fantasy</td>\n",
       "    </tr>\n",
       "    <tr>\n",
       "      <th>7826</th>\n",
       "      <td>Red Rock West (1992)</td>\n",
       "      <td>2270</td>\n",
       "      <td>3.8</td>\n",
       "      <td>Thriller</td>\n",
       "    </tr>\n",
       "    <tr>\n",
       "      <th>8653</th>\n",
       "      <td>Slaughterhouse-Five (1972)</td>\n",
       "      <td>327</td>\n",
       "      <td>3.7</td>\n",
       "      <td>Comedy|Drama|Sci-Fi|War</td>\n",
       "    </tr>\n",
       "    <tr>\n",
       "      <th>4984</th>\n",
       "      <td>Jagged Edge (1985)</td>\n",
       "      <td>941</td>\n",
       "      <td>3.6</td>\n",
       "      <td>Thriller</td>\n",
       "    </tr>\n",
       "    <tr>\n",
       "      <th>1889</th>\n",
       "      <td>Christmas Carol, A (Scrooge) (1951)</td>\n",
       "      <td>368</td>\n",
       "      <td>3.8</td>\n",
       "      <td>Drama|Fantasy</td>\n",
       "    </tr>\n",
       "    <tr>\n",
       "      <th>1884</th>\n",
       "      <td>Chorus, The (Les Choristes) (2004)</td>\n",
       "      <td>376</td>\n",
       "      <td>4.0</td>\n",
       "      <td>Drama</td>\n",
       "    </tr>\n",
       "    <tr>\n",
       "      <th>2248</th>\n",
       "      <td>Croupier (1998)</td>\n",
       "      <td>1186</td>\n",
       "      <td>3.9</td>\n",
       "      <td>Crime|Drama</td>\n",
       "    </tr>\n",
       "    <tr>\n",
       "      <th>3323</th>\n",
       "      <td>Finding Neverland (2004)</td>\n",
       "      <td>3043</td>\n",
       "      <td>3.9</td>\n",
       "      <td>Drama</td>\n",
       "    </tr>\n",
       "    <tr>\n",
       "      <th>7083</th>\n",
       "      <td>Open Your Eyes (Abre los ojos) (1997)</td>\n",
       "      <td>1160</td>\n",
       "      <td>3.8</td>\n",
       "      <td>Drama|Romance|Sci-Fi|Thriller</td>\n",
       "    </tr>\n",
       "  </tbody>\n",
       "</table>\n",
       "</div>"
      ],
      "text/plain": [
       "     Movie Suggestion based on 300 Spartans, The (1962), 2 Fast 2 Furious (2003), 12 Angry Men (1957)  \\\n",
       "6705  Nausicaä of the Valley of the Winds (Kaze no t...                                                 \n",
       "2656  Discreet Charm of the Bourgeoisie, The (Le Cha...                                                 \n",
       "7826                               Red Rock West (1992)                                                 \n",
       "8653                         Slaughterhouse-Five (1972)                                                 \n",
       "4984                                 Jagged Edge (1985)                                                 \n",
       "1889                Christmas Carol, A (Scrooge) (1951)                                                 \n",
       "1884                 Chorus, The (Les Choristes) (2004)                                                 \n",
       "2248                                    Croupier (1998)                                                 \n",
       "3323                           Finding Neverland (2004)                                                 \n",
       "7083              Open Your Eyes (Abre los ojos) (1997)                                                 \n",
       "\n",
       "      Number of Ratings  Ratings                                    Genres  \n",
       "6705                958      4.1  Adventure|Animation|Drama|Fantasy|Sci-Fi  \n",
       "2656                365      4.0                      Comedy|Drama|Fantasy  \n",
       "7826               2270      3.8                                  Thriller  \n",
       "8653                327      3.7                   Comedy|Drama|Sci-Fi|War  \n",
       "4984                941      3.6                                  Thriller  \n",
       "1889                368      3.8                             Drama|Fantasy  \n",
       "1884                376      4.0                                     Drama  \n",
       "2248               1186      3.9                               Crime|Drama  \n",
       "3323               3043      3.9                                     Drama  \n",
       "7083               1160      3.8             Drama|Romance|Sci-Fi|Thriller  "
      ]
     },
     "execution_count": 80,
     "metadata": {},
     "output_type": "execute_result"
    }
   ],
   "source": [
    "#del final_recommendation['movieId']\n",
    "#del final_recommendation['correlation']\n",
    "title = ('Movie Suggestion based on '+userInput[0]+ \", \"+ userInput[1]+ \", \"+userInput[2])\n",
    "final_recommendation.rename(columns={'title':title,\n",
    "                                     'count':'Number of Ratings',\n",
    "                                     'mean':'Ratings',\n",
    "                                     'genres':'Genres'\n",
    "                                    },\n",
    "                           inplace=True)\n",
    "final_recommendation.head(10)"
   ]
  }
 ],
 "metadata": {
  "kernelspec": {
   "display_name": "Python 3 (ipykernel)",
   "language": "python",
   "name": "python3"
  },
  "language_info": {
   "codemirror_mode": {
    "name": "ipython",
    "version": 3
   },
   "file_extension": ".py",
   "mimetype": "text/x-python",
   "name": "python",
   "nbconvert_exporter": "python",
   "pygments_lexer": "ipython3",
   "version": "3.10.9"
  }
 },
 "nbformat": 4,
 "nbformat_minor": 5
}
