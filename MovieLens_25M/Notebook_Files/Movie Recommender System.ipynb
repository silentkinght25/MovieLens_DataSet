{
 "cells": [
  {
   "cell_type": "code",
   "execution_count": 2,
   "id": "fbe9c887-a461-48b5-8a7f-337a2a5b1390",
   "metadata": {},
   "outputs": [],
   "source": [
    "#Import all libraries that will be used\n",
    "import pandas as pd\n",
    "import numpy as np"
   ]
  },
  {
   "cell_type": "code",
   "execution_count": 3,
   "id": "4e639473-3f7e-47a6-8d7b-8294a57dbfd8",
   "metadata": {},
   "outputs": [],
   "source": [
    "import warnings\n",
    "from warnings import filterwarnings\n",
    "filterwarnings('ignore')"
   ]
  },
  {
   "cell_type": "code",
   "execution_count": 4,
   "id": "59de8263-1a1f-4c87-ab39-89698b8df93a",
   "metadata": {},
   "outputs": [],
   "source": [
    "#load the ratings and movies file into the dataframe\n",
    "ratings = pd.read_csv('ratings.csv')\n",
    "movies = pd.read_csv('movies.csv')"
   ]
  },
  {
   "cell_type": "code",
   "execution_count": 5,
   "id": "eb1234ef-b4a1-42ed-a935-3cc7bf471ccc",
   "metadata": {},
   "outputs": [
    {
     "data": {
      "text/html": [
       "<div>\n",
       "<style scoped>\n",
       "    .dataframe tbody tr th:only-of-type {\n",
       "        vertical-align: middle;\n",
       "    }\n",
       "\n",
       "    .dataframe tbody tr th {\n",
       "        vertical-align: top;\n",
       "    }\n",
       "\n",
       "    .dataframe thead th {\n",
       "        text-align: right;\n",
       "    }\n",
       "</style>\n",
       "<table border=\"1\" class=\"dataframe\">\n",
       "  <thead>\n",
       "    <tr style=\"text-align: right;\">\n",
       "      <th></th>\n",
       "      <th>movieId</th>\n",
       "      <th>title</th>\n",
       "      <th>genres</th>\n",
       "    </tr>\n",
       "  </thead>\n",
       "  <tbody>\n",
       "    <tr>\n",
       "      <th>0</th>\n",
       "      <td>1</td>\n",
       "      <td>Toy Story (1995)</td>\n",
       "      <td>Adventure|Animation|Children|Comedy|Fantasy</td>\n",
       "    </tr>\n",
       "    <tr>\n",
       "      <th>1</th>\n",
       "      <td>2</td>\n",
       "      <td>Jumanji (1995)</td>\n",
       "      <td>Adventure|Children|Fantasy</td>\n",
       "    </tr>\n",
       "    <tr>\n",
       "      <th>2</th>\n",
       "      <td>3</td>\n",
       "      <td>Grumpier Old Men (1995)</td>\n",
       "      <td>Comedy|Romance</td>\n",
       "    </tr>\n",
       "    <tr>\n",
       "      <th>3</th>\n",
       "      <td>4</td>\n",
       "      <td>Waiting to Exhale (1995)</td>\n",
       "      <td>Comedy|Drama|Romance</td>\n",
       "    </tr>\n",
       "    <tr>\n",
       "      <th>4</th>\n",
       "      <td>5</td>\n",
       "      <td>Father of the Bride Part II (1995)</td>\n",
       "      <td>Comedy</td>\n",
       "    </tr>\n",
       "  </tbody>\n",
       "</table>\n",
       "</div>"
      ],
      "text/plain": [
       "   movieId                               title  \\\n",
       "0        1                    Toy Story (1995)   \n",
       "1        2                      Jumanji (1995)   \n",
       "2        3             Grumpier Old Men (1995)   \n",
       "3        4            Waiting to Exhale (1995)   \n",
       "4        5  Father of the Bride Part II (1995)   \n",
       "\n",
       "                                        genres  \n",
       "0  Adventure|Animation|Children|Comedy|Fantasy  \n",
       "1                   Adventure|Children|Fantasy  \n",
       "2                               Comedy|Romance  \n",
       "3                         Comedy|Drama|Romance  \n",
       "4                                       Comedy  "
      ]
     },
     "execution_count": 5,
     "metadata": {},
     "output_type": "execute_result"
    }
   ],
   "source": [
    "movies.head()"
   ]
  },
  {
   "cell_type": "code",
   "execution_count": 6,
   "id": "37f2c3b4-8f85-40cc-881a-6a4df255e1f6",
   "metadata": {},
   "outputs": [
    {
     "data": {
      "text/html": [
       "<div>\n",
       "<style scoped>\n",
       "    .dataframe tbody tr th:only-of-type {\n",
       "        vertical-align: middle;\n",
       "    }\n",
       "\n",
       "    .dataframe tbody tr th {\n",
       "        vertical-align: top;\n",
       "    }\n",
       "\n",
       "    .dataframe thead th {\n",
       "        text-align: right;\n",
       "    }\n",
       "</style>\n",
       "<table border=\"1\" class=\"dataframe\">\n",
       "  <thead>\n",
       "    <tr style=\"text-align: right;\">\n",
       "      <th></th>\n",
       "      <th>userId</th>\n",
       "      <th>movieId</th>\n",
       "      <th>rating</th>\n",
       "      <th>timestamp</th>\n",
       "    </tr>\n",
       "  </thead>\n",
       "  <tbody>\n",
       "    <tr>\n",
       "      <th>0</th>\n",
       "      <td>1</td>\n",
       "      <td>296</td>\n",
       "      <td>5.0</td>\n",
       "      <td>1147880044</td>\n",
       "    </tr>\n",
       "    <tr>\n",
       "      <th>1</th>\n",
       "      <td>1</td>\n",
       "      <td>306</td>\n",
       "      <td>3.5</td>\n",
       "      <td>1147868817</td>\n",
       "    </tr>\n",
       "    <tr>\n",
       "      <th>2</th>\n",
       "      <td>1</td>\n",
       "      <td>307</td>\n",
       "      <td>5.0</td>\n",
       "      <td>1147868828</td>\n",
       "    </tr>\n",
       "    <tr>\n",
       "      <th>3</th>\n",
       "      <td>1</td>\n",
       "      <td>665</td>\n",
       "      <td>5.0</td>\n",
       "      <td>1147878820</td>\n",
       "    </tr>\n",
       "    <tr>\n",
       "      <th>4</th>\n",
       "      <td>1</td>\n",
       "      <td>899</td>\n",
       "      <td>3.5</td>\n",
       "      <td>1147868510</td>\n",
       "    </tr>\n",
       "  </tbody>\n",
       "</table>\n",
       "</div>"
      ],
      "text/plain": [
       "   userId  movieId  rating   timestamp\n",
       "0       1      296     5.0  1147880044\n",
       "1       1      306     3.5  1147868817\n",
       "2       1      307     5.0  1147868828\n",
       "3       1      665     5.0  1147878820\n",
       "4       1      899     3.5  1147868510"
      ]
     },
     "execution_count": 6,
     "metadata": {},
     "output_type": "execute_result"
    }
   ],
   "source": [
    "ratings.head()"
   ]
  },
  {
   "cell_type": "code",
   "execution_count": 7,
   "id": "0f892306-2ec1-4c5c-b6f9-f81da2931849",
   "metadata": {},
   "outputs": [
    {
     "data": {
      "text/html": [
       "<div>\n",
       "<style scoped>\n",
       "    .dataframe tbody tr th:only-of-type {\n",
       "        vertical-align: middle;\n",
       "    }\n",
       "\n",
       "    .dataframe tbody tr th {\n",
       "        vertical-align: top;\n",
       "    }\n",
       "\n",
       "    .dataframe thead th {\n",
       "        text-align: right;\n",
       "    }\n",
       "</style>\n",
       "<table border=\"1\" class=\"dataframe\">\n",
       "  <thead>\n",
       "    <tr style=\"text-align: right;\">\n",
       "      <th></th>\n",
       "      <th>movieId</th>\n",
       "      <th>title</th>\n",
       "      <th>genres</th>\n",
       "      <th>userId</th>\n",
       "      <th>rating</th>\n",
       "    </tr>\n",
       "  </thead>\n",
       "  <tbody>\n",
       "    <tr>\n",
       "      <th>0</th>\n",
       "      <td>1</td>\n",
       "      <td>Toy Story (1995)</td>\n",
       "      <td>Adventure|Animation|Children|Comedy|Fantasy</td>\n",
       "      <td>2</td>\n",
       "      <td>3.5</td>\n",
       "    </tr>\n",
       "    <tr>\n",
       "      <th>1</th>\n",
       "      <td>1</td>\n",
       "      <td>Toy Story (1995)</td>\n",
       "      <td>Adventure|Animation|Children|Comedy|Fantasy</td>\n",
       "      <td>3</td>\n",
       "      <td>4.0</td>\n",
       "    </tr>\n",
       "    <tr>\n",
       "      <th>2</th>\n",
       "      <td>1</td>\n",
       "      <td>Toy Story (1995)</td>\n",
       "      <td>Adventure|Animation|Children|Comedy|Fantasy</td>\n",
       "      <td>4</td>\n",
       "      <td>3.0</td>\n",
       "    </tr>\n",
       "    <tr>\n",
       "      <th>3</th>\n",
       "      <td>1</td>\n",
       "      <td>Toy Story (1995)</td>\n",
       "      <td>Adventure|Animation|Children|Comedy|Fantasy</td>\n",
       "      <td>5</td>\n",
       "      <td>4.0</td>\n",
       "    </tr>\n",
       "    <tr>\n",
       "      <th>4</th>\n",
       "      <td>1</td>\n",
       "      <td>Toy Story (1995)</td>\n",
       "      <td>Adventure|Animation|Children|Comedy|Fantasy</td>\n",
       "      <td>8</td>\n",
       "      <td>4.0</td>\n",
       "    </tr>\n",
       "  </tbody>\n",
       "</table>\n",
       "</div>"
      ],
      "text/plain": [
       "   movieId             title                                       genres  \\\n",
       "0        1  Toy Story (1995)  Adventure|Animation|Children|Comedy|Fantasy   \n",
       "1        1  Toy Story (1995)  Adventure|Animation|Children|Comedy|Fantasy   \n",
       "2        1  Toy Story (1995)  Adventure|Animation|Children|Comedy|Fantasy   \n",
       "3        1  Toy Story (1995)  Adventure|Animation|Children|Comedy|Fantasy   \n",
       "4        1  Toy Story (1995)  Adventure|Animation|Children|Comedy|Fantasy   \n",
       "\n",
       "   userId  rating  \n",
       "0       2     3.5  \n",
       "1       3     4.0  \n",
       "2       4     3.0  \n",
       "3       5     4.0  \n",
       "4       8     4.0  "
      ]
     },
     "execution_count": 7,
     "metadata": {},
     "output_type": "execute_result"
    }
   ],
   "source": [
    "movie_ratings = pd.merge(movies,ratings, on='movieId', how='inner')\n",
    "movie_ratings.drop('timestamp', axis=1, inplace=True)\n",
    "movie_ratings.head()"
   ]
  },
  {
   "cell_type": "code",
   "execution_count": 8,
   "id": "1305191e-95f6-45b1-a4d1-1519a191c893",
   "metadata": {},
   "outputs": [
    {
     "data": {
      "text/html": [
       "<div>\n",
       "<style scoped>\n",
       "    .dataframe tbody tr th:only-of-type {\n",
       "        vertical-align: middle;\n",
       "    }\n",
       "\n",
       "    .dataframe tbody tr th {\n",
       "        vertical-align: top;\n",
       "    }\n",
       "\n",
       "    .dataframe thead th {\n",
       "        text-align: right;\n",
       "    }\n",
       "</style>\n",
       "<table border=\"1\" class=\"dataframe\">\n",
       "  <thead>\n",
       "    <tr style=\"text-align: right;\">\n",
       "      <th></th>\n",
       "      <th>count</th>\n",
       "      <th>mean</th>\n",
       "    </tr>\n",
       "    <tr>\n",
       "      <th>title</th>\n",
       "      <th></th>\n",
       "      <th></th>\n",
       "    </tr>\n",
       "  </thead>\n",
       "  <tbody>\n",
       "    <tr>\n",
       "      <th>\"BLOW THE NIGHT!\" Let's Spend the Night Together (1983)</th>\n",
       "      <td>1</td>\n",
       "      <td>3.0</td>\n",
       "    </tr>\n",
       "    <tr>\n",
       "      <th>\"Great Performances\" Cats (1998)</th>\n",
       "      <td>179</td>\n",
       "      <td>2.9</td>\n",
       "    </tr>\n",
       "    <tr>\n",
       "      <th>#1 Cheerleader Camp (2010)</th>\n",
       "      <td>9</td>\n",
       "      <td>2.1</td>\n",
       "    </tr>\n",
       "    <tr>\n",
       "      <th>#Captured (2017)</th>\n",
       "      <td>2</td>\n",
       "      <td>3.8</td>\n",
       "    </tr>\n",
       "    <tr>\n",
       "      <th>#Female Pleasure (2018)</th>\n",
       "      <td>3</td>\n",
       "      <td>3.7</td>\n",
       "    </tr>\n",
       "  </tbody>\n",
       "</table>\n",
       "</div>"
      ],
      "text/plain": [
       "                                                    count  mean\n",
       "title                                                          \n",
       "\"BLOW THE NIGHT!\" Let's Spend the Night Togethe...      1   3.0\n",
       "\"Great Performances\" Cats (1998)                      179   2.9\n",
       "#1 Cheerleader Camp (2010)                              9   2.1\n",
       "#Captured (2017)                                        2   3.8\n",
       "#Female Pleasure (2018)                                 3   3.7"
      ]
     },
     "execution_count": 8,
     "metadata": {},
     "output_type": "execute_result"
    }
   ],
   "source": [
    "#movie_rating_df = \n",
    "reviews = movie_ratings.groupby(['title'])['rating'].agg(['count','mean']).round(1)\n",
    "reviews.head()"
   ]
  },
  {
   "cell_type": "code",
   "execution_count": 9,
   "id": "14a9807c-4a9d-4239-b6cf-d71fa64f1441",
   "metadata": {},
   "outputs": [
    {
     "data": {
      "text/plain": [
       "(25000095, 5)"
      ]
     },
     "execution_count": 9,
     "metadata": {},
     "output_type": "execute_result"
    }
   ],
   "source": [
    "movie_ratings.shape"
   ]
  },
  {
   "cell_type": "code",
   "execution_count": 10,
   "id": "51a2adb4-b405-4fbf-83ac-51fc9c4078eb",
   "metadata": {},
   "outputs": [
    {
     "name": "stdout",
     "output_type": "stream",
     "text": [
      "<class 'pandas.core.frame.DataFrame'>\n",
      "Int64Index: 25000095 entries, 0 to 25000094\n",
      "Data columns (total 5 columns):\n",
      " #   Column   Dtype  \n",
      "---  ------   -----  \n",
      " 0   movieId  int64  \n",
      " 1   title    object \n",
      " 2   genres   object \n",
      " 3   userId   int64  \n",
      " 4   rating   float64\n",
      "dtypes: float64(1), int64(2), object(2)\n",
      "memory usage: 4.5 GB\n"
     ]
    }
   ],
   "source": [
    "#movie_ratings.info(memory_usage='deep')"
   ]
  },
  {
   "cell_type": "code",
   "execution_count": 11,
   "id": "5f0e8ff4-268c-4c7f-a250-5519eec988ff",
   "metadata": {},
   "outputs": [
    {
     "data": {
      "text/html": [
       "<div>\n",
       "<style scoped>\n",
       "    .dataframe tbody tr th:only-of-type {\n",
       "        vertical-align: middle;\n",
       "    }\n",
       "\n",
       "    .dataframe tbody tr th {\n",
       "        vertical-align: top;\n",
       "    }\n",
       "\n",
       "    .dataframe thead th {\n",
       "        text-align: right;\n",
       "    }\n",
       "</style>\n",
       "<table border=\"1\" class=\"dataframe\">\n",
       "  <thead>\n",
       "    <tr style=\"text-align: right;\">\n",
       "      <th></th>\n",
       "      <th>movieId</th>\n",
       "      <th>userId</th>\n",
       "      <th>rating</th>\n",
       "    </tr>\n",
       "  </thead>\n",
       "  <tbody>\n",
       "    <tr>\n",
       "      <th>count</th>\n",
       "      <td>25000095.0</td>\n",
       "      <td>25000095.0</td>\n",
       "      <td>25000095.0</td>\n",
       "    </tr>\n",
       "    <tr>\n",
       "      <th>mean</th>\n",
       "      <td>21388.0</td>\n",
       "      <td>81189.0</td>\n",
       "      <td>4.0</td>\n",
       "    </tr>\n",
       "    <tr>\n",
       "      <th>std</th>\n",
       "      <td>39199.0</td>\n",
       "      <td>46792.0</td>\n",
       "      <td>1.0</td>\n",
       "    </tr>\n",
       "    <tr>\n",
       "      <th>min</th>\n",
       "      <td>1.0</td>\n",
       "      <td>1.0</td>\n",
       "      <td>0.0</td>\n",
       "    </tr>\n",
       "    <tr>\n",
       "      <th>25%</th>\n",
       "      <td>1196.0</td>\n",
       "      <td>40510.0</td>\n",
       "      <td>3.0</td>\n",
       "    </tr>\n",
       "    <tr>\n",
       "      <th>50%</th>\n",
       "      <td>2947.0</td>\n",
       "      <td>80914.0</td>\n",
       "      <td>4.0</td>\n",
       "    </tr>\n",
       "    <tr>\n",
       "      <th>75%</th>\n",
       "      <td>8623.0</td>\n",
       "      <td>121557.0</td>\n",
       "      <td>4.0</td>\n",
       "    </tr>\n",
       "    <tr>\n",
       "      <th>max</th>\n",
       "      <td>209171.0</td>\n",
       "      <td>162541.0</td>\n",
       "      <td>5.0</td>\n",
       "    </tr>\n",
       "  </tbody>\n",
       "</table>\n",
       "</div>"
      ],
      "text/plain": [
       "          movieId      userId      rating\n",
       "count  25000095.0  25000095.0  25000095.0\n",
       "mean      21388.0     81189.0         4.0\n",
       "std       39199.0     46792.0         1.0\n",
       "min           1.0         1.0         0.0\n",
       "25%        1196.0     40510.0         3.0\n",
       "50%        2947.0     80914.0         4.0\n",
       "75%        8623.0    121557.0         4.0\n",
       "max      209171.0    162541.0         5.0"
      ]
     },
     "execution_count": 11,
     "metadata": {},
     "output_type": "execute_result"
    }
   ],
   "source": [
    "#movie_ratings.describe().round()"
   ]
  },
  {
   "cell_type": "code",
   "execution_count": 12,
   "id": "6b9bf8cb-d7a5-4321-968a-af2d3bc7814a",
   "metadata": {},
   "outputs": [],
   "source": [
    "movie_ratings=movie_ratings.astype({'movieId':'int32','userId':'int32','genres':'category'})"
   ]
  },
  {
   "cell_type": "code",
   "execution_count": 13,
   "id": "b76bc9b1-1ce5-4416-8c7f-f54bca0a790c",
   "metadata": {
    "tags": []
   },
   "outputs": [],
   "source": [
    "#mov = pd.crosstab(index=movie_ratings['userId'], columns=movie_ratings['title'],values=movie_ratings['rating'], aggfunc='sum')"
   ]
  },
  {
   "cell_type": "code",
   "execution_count": null,
   "id": "67e84962-ac1c-497e-9cee-1d768e3d3697",
   "metadata": {},
   "outputs": [],
   "source": []
  },
  {
   "cell_type": "code",
   "execution_count": 14,
   "id": "49e86668-62f4-4d6f-b098-6476face9499",
   "metadata": {},
   "outputs": [
    {
     "data": {
      "text/plain": [
       "(25000095, 5)"
      ]
     },
     "execution_count": 14,
     "metadata": {},
     "output_type": "execute_result"
    }
   ],
   "source": [
    "movie_ratings.shape"
   ]
  },
  {
   "cell_type": "code",
   "execution_count": 15,
   "id": "57602f5b-afca-4f0f-b592-96ec0779f4cd",
   "metadata": {},
   "outputs": [
    {
     "data": {
      "text/plain": [
       "(25000095, 4)"
      ]
     },
     "execution_count": 15,
     "metadata": {},
     "output_type": "execute_result"
    }
   ],
   "source": [
    "ratings.shape"
   ]
  },
  {
   "cell_type": "code",
   "execution_count": 16,
   "id": "9d3c63dd-47ba-4972-9d43-29fd7759dcf7",
   "metadata": {},
   "outputs": [
    {
     "data": {
      "text/plain": [
       "userId         162541\n",
       "movieId         59047\n",
       "rating             10\n",
       "timestamp    20115267\n",
       "dtype: int64"
      ]
     },
     "execution_count": 16,
     "metadata": {},
     "output_type": "execute_result"
    }
   ],
   "source": [
    "ratings.nunique()"
   ]
  },
  {
   "cell_type": "code",
   "execution_count": 17,
   "id": "9c24b3f6-8fb2-446c-9557-758e5744199b",
   "metadata": {},
   "outputs": [
    {
     "data": {
      "text/plain": [
       "userId       0\n",
       "movieId      0\n",
       "rating       0\n",
       "timestamp    0\n",
       "dtype: int64"
      ]
     },
     "execution_count": 17,
     "metadata": {},
     "output_type": "execute_result"
    }
   ],
   "source": [
    "ratings.isna().sum()"
   ]
  },
  {
   "cell_type": "code",
   "execution_count": 18,
   "id": "c3f42a60-09a6-4118-9772-173a45240cb1",
   "metadata": {
    "tags": [
     "vc"
    ]
   },
   "outputs": [],
   "source": [
    "#movie_ratings.nunique()"
   ]
  },
  {
   "cell_type": "code",
   "execution_count": 19,
   "id": "f624d121-95d5-4978-a346-cb33638869ce",
   "metadata": {},
   "outputs": [
    {
     "data": {
      "text/plain": [
       "72315     32202\n",
       "80974      9178\n",
       "137293     8913\n",
       "33844      7919\n",
       "20055      7488\n",
       "          ...  \n",
       "127695       20\n",
       "152765       20\n",
       "90815        20\n",
       "70828        20\n",
       "141949       20\n",
       "Name: userId, Length: 162541, dtype: int64"
      ]
     },
     "execution_count": 19,
     "metadata": {},
     "output_type": "execute_result"
    }
   ],
   "source": [
    "user_counts = movie_ratings['userId'].value_counts()\n",
    "user_counts"
   ]
  },
  {
   "cell_type": "code",
   "execution_count": 20,
   "id": "9b690ab9-597a-47da-b38a-2aa870025411",
   "metadata": {},
   "outputs": [
    {
     "data": {
      "text/plain": [
       "Int64Index([ 72315,  80974, 137293,  33844,  20055, 109731,  92046,  49403,\n",
       "             30879, 115102,\n",
       "            ...\n",
       "            151863, 112112,  75766, 127773, 111735, 127695, 152765,  90815,\n",
       "             70828, 141949],\n",
       "           dtype='int64', length=162541)"
      ]
     },
     "execution_count": 20,
     "metadata": {},
     "output_type": "execute_result"
    }
   ],
   "source": [
    "valid_user_ids = user_counts[user_counts > 0].index\n",
    "valid_user_ids"
   ]
  },
  {
   "cell_type": "code",
   "execution_count": 21,
   "id": "44617ed7-3f1e-4c6d-b13d-da3026a34c67",
   "metadata": {},
   "outputs": [],
   "source": [
    "filtered_ratings = movie_ratings[movie_ratings['userId'].isin(valid_user_ids)]\n",
    "\n",
    "# Crosstab with the filtered DataFrame\n",
    "#mov = pd.crosstab(index=filtered_ratings['userId'],\n",
    "#                  columns=filtered_ratings['title'],\n",
    "#                  values=filtered_ratings['rating'],\n",
    "#                  aggfunc='sum')\n",
    "#mov"
   ]
  },
  {
   "cell_type": "code",
   "execution_count": 22,
   "id": "3cc95057-ffdc-4d13-8fa1-6adcd62a5a00",
   "metadata": {},
   "outputs": [
    {
     "data": {
      "text/plain": [
       "33"
      ]
     },
     "execution_count": 22,
     "metadata": {},
     "output_type": "execute_result"
    }
   ],
   "source": [
    "batch_size = 5000  # Set the batch size\n",
    "total_users = len(valid_user_ids)\n",
    "num_batches = total_users // batch_size + 1\n",
    "num_batches"
   ]
  },
  {
   "cell_type": "code",
   "execution_count": 23,
   "id": "df8130c0-abe6-4c52-8bab-61e251c712ae",
   "metadata": {},
   "outputs": [],
   "source": [
    "#The error you're encountering, \"MemoryError: Unable to allocate 469. KiB for an array with shape (6, 10000) and data type \n",
    "#float64,\" indicates that your code is running out of memory while trying to allocate memory for an array with shape \n",
    "#(6, 10000) and data type float64.\n",
    "\n",
    "#The issue is most likely caused by the concatenation of DataFrames mov and batch_mov inside the loop. As the loop progresses, the mov DataFrame keeps growing as you concatenate more batches, eventually causing a memory error.\n",
    "\n",
    "#To resolve this issue, you can modify your code to append each batch to a list and then concatenate them outside the loop. \n",
    "#Here's an updated version of your code that avoids the memory error:\n",
    "#mov = None  # Initialize the result DataFrame\n",
    "\n",
    "#for i in range(num_batches):\n",
    "#    start_index = i * batch_size\n",
    "#    end_index = start_index + batch_size\n",
    "#    batch_users = valid_user_ids[start_index:end_index]\n",
    "\n",
    "#    batch_mov = pd.crosstab(index=filtered_ratings[filtered_ratings['userId'].isin(batch_users)]['userId'],\n",
    "#                            columns=filtered_ratings[filtered_ratings['userId'].isin(batch_users)]['title'],\n",
    "#                            values=filtered_ratings[filtered_ratings['userId'].isin(batch_users)]['rating'],\n",
    "#                            aggfunc='sum')\n",
    "\n",
    "#    if mov is None:\n",
    "#        mov = batch_mov\n",
    "#    else:\n",
    "#        mov = pd.concat([mov, batch_mov])\n",
    "\n",
    "# The 'mov' DataFrame now contains the crosstab result in batches using pd.concat"
   ]
  },
  {
   "cell_type": "code",
   "execution_count": null,
   "id": "444718af-f920-4e11-99f5-c87d271dccd8",
   "metadata": {},
   "outputs": [
    {
     "name": "stdout",
     "output_type": "stream",
     "text": [
      "Running batch no: 0\n",
      "Running batch no: 1\n",
      "Running batch no: 2\n",
      "Running batch no: 3\n",
      "Running batch no: 4\n",
      "Running batch no: 5\n",
      "Running batch no: 6\n",
      "Running batch no: 7\n",
      "Running batch no: 8\n",
      "Running batch no: 9\n",
      "Running batch no: 10\n",
      "Running batch no: 11\n",
      "Running batch no: 12\n",
      "Running batch no: 13\n",
      "Running batch no: 14\n",
      "Running batch no: 15\n",
      "Running batch no: 16\n",
      "Running batch no: 17\n",
      "Running batch no: 18\n",
      "Running batch no: 19\n",
      "Running batch no: 20\n",
      "Running batch no: 21\n",
      "Running batch no: 22\n",
      "Running batch no: 23\n",
      "Running batch no: 24\n",
      "Running batch no: 25\n",
      "Running batch no: 26\n",
      "Running batch no: 27\n",
      "Running batch no: 28\n",
      "Running batch no: 29\n",
      "Running batch no: 30\n",
      "Running batch no: 31\n",
      "Running batch no: 32\n"
     ]
    }
   ],
   "source": [
    "#user_rating_list = []  # Initialize the list to store batches\n",
    "#user_rating = pd.DataFrame()\n",
    "\n",
    "#for i in range(num_batches):\n",
    "#    start_index = i * batch_size\n",
    "#    end_index = start_index + batch_size\n",
    "#    batch_users = valid_user_ids[start_index:end_index]\n",
    "#    print(\"Running batch no: \"+ str(i))\n",
    "\n",
    "#    batch_mov = pd.crosstab(index=filtered_ratings[filtered_ratings['userId'].isin(batch_users)]['userId'],\n",
    "#                            columns=filtered_ratings[filtered_ratings['userId'].isin(batch_users)]['title'],\n",
    "#                            values=filtered_ratings[filtered_ratings['userId'].isin(batch_users)]['rating'],\n",
    "#                            aggfunc='sum')\n",
    "\n",
    "#    user_rating_list.append(batch_mov)  # Append each batch to the list\n",
    "\n",
    "#user_rating = pd.concat(user_rating_list, ignore_index=True)  # Concatenate all batches\n"
   ]
  },
  {
   "cell_type": "code",
   "execution_count": 24,
   "id": "d7231578-41bb-444f-aad8-bae7eeaf05c9",
   "metadata": {},
   "outputs": [],
   "source": [
    "output_dir = r\"batch_files/\"  # Specify the directory to store the sets"
   ]
  },
  {
   "cell_type": "code",
   "execution_count": 31,
   "id": "a6228cf8-5171-4535-8a30-27c549ff2348",
   "metadata": {},
   "outputs": [
    {
     "name": "stdout",
     "output_type": "stream",
     "text": [
      "Running batch no: 0\n",
      "Writing batch no (0) to disk\n",
      "Running batch no: 1\n",
      "Writing batch no (1) to disk\n",
      "Running batch no: 2\n",
      "Writing batch no (2) to disk\n",
      "Running batch no: 3\n",
      "Writing batch no (3) to disk\n",
      "Running batch no: 4\n",
      "Writing batch no (4) to disk\n",
      "Running batch no: 5\n",
      "Writing batch no (5) to disk\n",
      "Running batch no: 6\n",
      "Writing batch no (6) to disk\n",
      "Running batch no: 7\n",
      "Writing batch no (7) to disk\n",
      "Running batch no: 8\n",
      "Writing batch no (8) to disk\n",
      "Running batch no: 9\n",
      "Writing batch no (9) to disk\n",
      "Running batch no: 10\n",
      "Writing batch no (10) to disk\n",
      "Running batch no: 11\n",
      "Writing batch no (11) to disk\n",
      "Running batch no: 12\n",
      "Writing batch no (12) to disk\n",
      "Running batch no: 13\n",
      "Writing batch no (13) to disk\n",
      "Running batch no: 14\n",
      "Writing batch no (14) to disk\n",
      "Running batch no: 15\n",
      "Writing batch no (15) to disk\n",
      "Running batch no: 16\n",
      "Writing batch no (16) to disk\n",
      "Running batch no: 17\n",
      "Writing batch no (17) to disk\n",
      "Running batch no: 18\n",
      "Writing batch no (18) to disk\n",
      "Running batch no: 19\n",
      "Writing batch no (19) to disk\n",
      "Running batch no: 20\n",
      "Writing batch no (20) to disk\n",
      "Running batch no: 21\n",
      "Writing batch no (21) to disk\n",
      "Running batch no: 22\n",
      "Writing batch no (22) to disk\n",
      "Running batch no: 23\n",
      "Writing batch no (23) to disk\n",
      "Running batch no: 24\n",
      "Writing batch no (24) to disk\n",
      "Running batch no: 25\n",
      "Writing batch no (25) to disk\n",
      "Running batch no: 26\n",
      "Writing batch no (26) to disk\n",
      "Running batch no: 27\n",
      "Writing batch no (27) to disk\n",
      "Running batch no: 28\n",
      "Writing batch no (28) to disk\n",
      "Running batch no: 29\n",
      "Writing batch no (29) to disk\n",
      "Running batch no: 30\n",
      "Writing batch no (30) to disk\n",
      "Running batch no: 31\n",
      "Writing batch no (31) to disk\n",
      "Running batch no: 32\n",
      "Writing batch no (32) to disk\n"
     ]
    }
   ],
   "source": [
    "\n",
    "output_dir = r\"batch_files/\"  # Specify the directory to store the sets\n",
    "\n",
    "for i in range(num_batches):\n",
    "    start_index = i * batch_size\n",
    "    end_index = start_index + batch_size\n",
    "    batch_users = valid_user_ids[start_index:end_index]\n",
    "    print(\"Running batch no: \" + str(i))\n",
    "\n",
    "    batch_mov = pd.crosstab(\n",
    "        index=filtered_ratings[filtered_ratings['userId'].isin(batch_users)]['userId'],\n",
    "        columns=filtered_ratings[filtered_ratings['userId'].isin(batch_users)]['title'],\n",
    "        values=filtered_ratings[filtered_ratings['userId'].isin(batch_users)]['rating'],\n",
    "        aggfunc='sum'\n",
    "    )\n",
    "    print(\"Writing batch no (\" + str(i) + \") to disk\")\n",
    "    batch_mov.to_csv(output_dir + f\"batch_{i}.csv\", index=False)  # Write each batch to disk as a separate file\n"
   ]
  },
  {
   "cell_type": "code",
   "execution_count": 30,
   "id": "e8b3e1a7-ca1d-4bbb-acc1-7c1382588c2b",
   "metadata": {},
   "outputs": [],
   "source": [
    "#reviews.to_csv(output_dir + f\"batch_{0}.csv\", index=False)  # Write each batch to disk as a separate file\n"
   ]
  },
  {
   "cell_type": "code",
   "execution_count": null,
   "id": "0498ffe6-55ee-4e1b-a78d-f948ad128e99",
   "metadata": {},
   "outputs": [],
   "source": []
  },
  {
   "cell_type": "code",
   "execution_count": 22,
   "id": "606a971c-3342-4596-8f15-80b091b5be64",
   "metadata": {},
   "outputs": [
    {
     "data": {
      "text/plain": [
       "33"
      ]
     },
     "execution_count": 22,
     "metadata": {},
     "output_type": "execute_result"
    }
   ],
   "source": [
    "num_batches"
   ]
  },
  {
   "cell_type": "code",
   "execution_count": 25,
   "id": "e71e9a46-2bf7-4949-bb64-ecf3a1393496",
   "metadata": {},
   "outputs": [
    {
     "name": "stdout",
     "output_type": "stream",
     "text": [
      "Loading batch no (0) from disk\n"
     ]
    },
    {
     "ename": "KeyboardInterrupt",
     "evalue": "",
     "output_type": "error",
     "traceback": [
      "\u001b[1;31m---------------------------------------------------------------------------\u001b[0m",
      "\u001b[1;31mKeyboardInterrupt\u001b[0m                         Traceback (most recent call last)",
      "File \u001b[1;32m~\\anaconda3\\lib\\site-packages\\pandas\\io\\parsers\\readers.py:611\u001b[0m, in \u001b[0;36m_read\u001b[1;34m(filepath_or_buffer, kwds)\u001b[0m\n\u001b[0;32m    610\u001b[0m \u001b[38;5;28;01mwith\u001b[39;00m parser:\n\u001b[1;32m--> 611\u001b[0m     \u001b[38;5;28;01mreturn\u001b[39;00m \u001b[43mparser\u001b[49m\u001b[38;5;241;43m.\u001b[39;49m\u001b[43mread\u001b[49m\u001b[43m(\u001b[49m\u001b[43mnrows\u001b[49m\u001b[43m)\u001b[49m\n",
      "File \u001b[1;32m~\\anaconda3\\lib\\site-packages\\pandas\\io\\parsers\\readers.py:1778\u001b[0m, in \u001b[0;36mTextFileReader.read\u001b[1;34m(self, nrows)\u001b[0m\n\u001b[0;32m   1772\u001b[0m \u001b[38;5;28;01mtry\u001b[39;00m:\n\u001b[0;32m   1773\u001b[0m     \u001b[38;5;66;03m# error: \"ParserBase\" has no attribute \"read\"\u001b[39;00m\n\u001b[0;32m   1774\u001b[0m     (\n\u001b[0;32m   1775\u001b[0m         index,\n\u001b[0;32m   1776\u001b[0m         columns,\n\u001b[0;32m   1777\u001b[0m         col_dict,\n\u001b[1;32m-> 1778\u001b[0m     ) \u001b[38;5;241m=\u001b[39m \u001b[38;5;28;43mself\u001b[39;49m\u001b[38;5;241;43m.\u001b[39;49m\u001b[43m_engine\u001b[49m\u001b[38;5;241;43m.\u001b[39;49m\u001b[43mread\u001b[49m\u001b[43m(\u001b[49m\u001b[43m  \u001b[49m\u001b[38;5;66;43;03m# type: ignore[attr-defined]\u001b[39;49;00m\n\u001b[0;32m   1779\u001b[0m \u001b[43m        \u001b[49m\u001b[43mnrows\u001b[49m\n\u001b[0;32m   1780\u001b[0m \u001b[43m    \u001b[49m\u001b[43m)\u001b[49m\n\u001b[0;32m   1781\u001b[0m \u001b[38;5;28;01mexcept\u001b[39;00m \u001b[38;5;167;01mException\u001b[39;00m:\n",
      "File \u001b[1;32m~\\anaconda3\\lib\\site-packages\\pandas\\io\\parsers\\c_parser_wrapper.py:230\u001b[0m, in \u001b[0;36mCParserWrapper.read\u001b[1;34m(self, nrows)\u001b[0m\n\u001b[0;32m    229\u001b[0m \u001b[38;5;28;01mif\u001b[39;00m \u001b[38;5;28mself\u001b[39m\u001b[38;5;241m.\u001b[39mlow_memory:\n\u001b[1;32m--> 230\u001b[0m     chunks \u001b[38;5;241m=\u001b[39m \u001b[38;5;28;43mself\u001b[39;49m\u001b[38;5;241;43m.\u001b[39;49m\u001b[43m_reader\u001b[49m\u001b[38;5;241;43m.\u001b[39;49m\u001b[43mread_low_memory\u001b[49m\u001b[43m(\u001b[49m\u001b[43mnrows\u001b[49m\u001b[43m)\u001b[49m\n\u001b[0;32m    231\u001b[0m     \u001b[38;5;66;03m# destructive to chunks\u001b[39;00m\n",
      "File \u001b[1;32m~\\anaconda3\\lib\\site-packages\\pandas\\_libs\\parsers.pyx:808\u001b[0m, in \u001b[0;36mpandas._libs.parsers.TextReader.read_low_memory\u001b[1;34m()\u001b[0m\n",
      "File \u001b[1;32m~\\anaconda3\\lib\\site-packages\\pandas\\_libs\\parsers.pyx:890\u001b[0m, in \u001b[0;36mpandas._libs.parsers.TextReader._read_rows\u001b[1;34m()\u001b[0m\n",
      "File \u001b[1;32m~\\anaconda3\\lib\\site-packages\\pandas\\_libs\\parsers.pyx:1050\u001b[0m, in \u001b[0;36mpandas._libs.parsers.TextReader._convert_column_data\u001b[1;34m()\u001b[0m\n",
      "File \u001b[1;32m~\\anaconda3\\lib\\site-packages\\pandas\\_libs\\parsers.pyx:1388\u001b[0m, in \u001b[0;36mpandas._libs.parsers._maybe_upcast\u001b[1;34m()\u001b[0m\n",
      "File \u001b[1;32m<__array_function__ internals>:177\u001b[0m, in \u001b[0;36mputmask\u001b[1;34m(*args, **kwargs)\u001b[0m\n",
      "\u001b[1;31mKeyboardInterrupt\u001b[0m: ",
      "\nDuring handling of the above exception, another exception occurred:\n",
      "\u001b[1;31mKeyboardInterrupt\u001b[0m                         Traceback (most recent call last)",
      "Cell \u001b[1;32mIn[25], line 6\u001b[0m\n\u001b[0;32m      4\u001b[0m \u001b[38;5;28;01mfor\u001b[39;00m i \u001b[38;5;129;01min\u001b[39;00m \u001b[38;5;28mrange\u001b[39m(num_batches):\n\u001b[0;32m      5\u001b[0m     \u001b[38;5;28mprint\u001b[39m(\u001b[38;5;124m\"\u001b[39m\u001b[38;5;124mLoading batch no (\u001b[39m\u001b[38;5;124m\"\u001b[39m \u001b[38;5;241m+\u001b[39m \u001b[38;5;28mstr\u001b[39m(i) \u001b[38;5;241m+\u001b[39m \u001b[38;5;124m\"\u001b[39m\u001b[38;5;124m) from disk\u001b[39m\u001b[38;5;124m\"\u001b[39m)\n\u001b[1;32m----> 6\u001b[0m     batch_mov \u001b[38;5;241m=\u001b[39m \u001b[43mpd\u001b[49m\u001b[38;5;241;43m.\u001b[39;49m\u001b[43mread_csv\u001b[49m\u001b[43m(\u001b[49m\u001b[43moutput_dir\u001b[49m\u001b[43m \u001b[49m\u001b[38;5;241;43m+\u001b[39;49m\u001b[43m \u001b[49m\u001b[38;5;124;43mf\u001b[39;49m\u001b[38;5;124;43m\"\u001b[39;49m\u001b[38;5;124;43mbatch_\u001b[39;49m\u001b[38;5;132;43;01m{\u001b[39;49;00m\u001b[43mi\u001b[49m\u001b[38;5;132;43;01m}\u001b[39;49;00m\u001b[38;5;124;43m.csv\u001b[39;49m\u001b[38;5;124;43m\"\u001b[39;49m\u001b[43m)\u001b[49m\n\u001b[0;32m      7\u001b[0m     user_rating_list\u001b[38;5;241m.\u001b[39mappend(batch_mov)  \u001b[38;5;66;03m# Append each batch DataFrame to the list\u001b[39;00m\n\u001b[0;32m      8\u001b[0m     \u001b[38;5;28;01mif\u001b[39;00m i \u001b[38;5;241m%\u001b[39m \u001b[38;5;241m5\u001b[39m\u001b[38;5;241m==\u001b[39m\u001b[38;5;241m0\u001b[39m:\n",
      "File \u001b[1;32m~\\anaconda3\\lib\\site-packages\\pandas\\util\\_decorators.py:211\u001b[0m, in \u001b[0;36mdeprecate_kwarg.<locals>._deprecate_kwarg.<locals>.wrapper\u001b[1;34m(*args, **kwargs)\u001b[0m\n\u001b[0;32m    209\u001b[0m     \u001b[38;5;28;01melse\u001b[39;00m:\n\u001b[0;32m    210\u001b[0m         kwargs[new_arg_name] \u001b[38;5;241m=\u001b[39m new_arg_value\n\u001b[1;32m--> 211\u001b[0m \u001b[38;5;28;01mreturn\u001b[39;00m func(\u001b[38;5;241m*\u001b[39margs, \u001b[38;5;241m*\u001b[39m\u001b[38;5;241m*\u001b[39mkwargs)\n",
      "File \u001b[1;32m~\\anaconda3\\lib\\site-packages\\pandas\\util\\_decorators.py:331\u001b[0m, in \u001b[0;36mdeprecate_nonkeyword_arguments.<locals>.decorate.<locals>.wrapper\u001b[1;34m(*args, **kwargs)\u001b[0m\n\u001b[0;32m    325\u001b[0m \u001b[38;5;28;01mif\u001b[39;00m \u001b[38;5;28mlen\u001b[39m(args) \u001b[38;5;241m>\u001b[39m num_allow_args:\n\u001b[0;32m    326\u001b[0m     warnings\u001b[38;5;241m.\u001b[39mwarn(\n\u001b[0;32m    327\u001b[0m         msg\u001b[38;5;241m.\u001b[39mformat(arguments\u001b[38;5;241m=\u001b[39m_format_argument_list(allow_args)),\n\u001b[0;32m    328\u001b[0m         \u001b[38;5;167;01mFutureWarning\u001b[39;00m,\n\u001b[0;32m    329\u001b[0m         stacklevel\u001b[38;5;241m=\u001b[39mfind_stack_level(),\n\u001b[0;32m    330\u001b[0m     )\n\u001b[1;32m--> 331\u001b[0m \u001b[38;5;28;01mreturn\u001b[39;00m func(\u001b[38;5;241m*\u001b[39margs, \u001b[38;5;241m*\u001b[39m\u001b[38;5;241m*\u001b[39mkwargs)\n",
      "File \u001b[1;32m~\\anaconda3\\lib\\site-packages\\pandas\\io\\parsers\\readers.py:950\u001b[0m, in \u001b[0;36mread_csv\u001b[1;34m(filepath_or_buffer, sep, delimiter, header, names, index_col, usecols, squeeze, prefix, mangle_dupe_cols, dtype, engine, converters, true_values, false_values, skipinitialspace, skiprows, skipfooter, nrows, na_values, keep_default_na, na_filter, verbose, skip_blank_lines, parse_dates, infer_datetime_format, keep_date_col, date_parser, dayfirst, cache_dates, iterator, chunksize, compression, thousands, decimal, lineterminator, quotechar, quoting, doublequote, escapechar, comment, encoding, encoding_errors, dialect, error_bad_lines, warn_bad_lines, on_bad_lines, delim_whitespace, low_memory, memory_map, float_precision, storage_options)\u001b[0m\n\u001b[0;32m    935\u001b[0m kwds_defaults \u001b[38;5;241m=\u001b[39m _refine_defaults_read(\n\u001b[0;32m    936\u001b[0m     dialect,\n\u001b[0;32m    937\u001b[0m     delimiter,\n\u001b[1;32m   (...)\u001b[0m\n\u001b[0;32m    946\u001b[0m     defaults\u001b[38;5;241m=\u001b[39m{\u001b[38;5;124m\"\u001b[39m\u001b[38;5;124mdelimiter\u001b[39m\u001b[38;5;124m\"\u001b[39m: \u001b[38;5;124m\"\u001b[39m\u001b[38;5;124m,\u001b[39m\u001b[38;5;124m\"\u001b[39m},\n\u001b[0;32m    947\u001b[0m )\n\u001b[0;32m    948\u001b[0m kwds\u001b[38;5;241m.\u001b[39mupdate(kwds_defaults)\n\u001b[1;32m--> 950\u001b[0m \u001b[38;5;28;01mreturn\u001b[39;00m \u001b[43m_read\u001b[49m\u001b[43m(\u001b[49m\u001b[43mfilepath_or_buffer\u001b[49m\u001b[43m,\u001b[49m\u001b[43m \u001b[49m\u001b[43mkwds\u001b[49m\u001b[43m)\u001b[49m\n",
      "File \u001b[1;32m~\\anaconda3\\lib\\site-packages\\pandas\\io\\parsers\\readers.py:610\u001b[0m, in \u001b[0;36m_read\u001b[1;34m(filepath_or_buffer, kwds)\u001b[0m\n\u001b[0;32m    607\u001b[0m \u001b[38;5;28;01mif\u001b[39;00m chunksize \u001b[38;5;129;01mor\u001b[39;00m iterator:\n\u001b[0;32m    608\u001b[0m     \u001b[38;5;28;01mreturn\u001b[39;00m parser\n\u001b[1;32m--> 610\u001b[0m \u001b[38;5;28;01mwith\u001b[39;00m parser:\n\u001b[0;32m    611\u001b[0m     \u001b[38;5;28;01mreturn\u001b[39;00m parser\u001b[38;5;241m.\u001b[39mread(nrows)\n",
      "File \u001b[1;32m~\\anaconda3\\lib\\site-packages\\pandas\\io\\parsers\\readers.py:1816\u001b[0m, in \u001b[0;36mTextFileReader.__exit__\u001b[1;34m(self, exc_type, exc_value, traceback)\u001b[0m\n\u001b[0;32m   1815\u001b[0m \u001b[38;5;28;01mdef\u001b[39;00m \u001b[38;5;21m__exit__\u001b[39m(\u001b[38;5;28mself\u001b[39m, exc_type, exc_value, traceback) \u001b[38;5;241m-\u001b[39m\u001b[38;5;241m>\u001b[39m \u001b[38;5;28;01mNone\u001b[39;00m:\n\u001b[1;32m-> 1816\u001b[0m     \u001b[38;5;28;43mself\u001b[39;49m\u001b[38;5;241;43m.\u001b[39;49m\u001b[43mclose\u001b[49m\u001b[43m(\u001b[49m\u001b[43m)\u001b[49m\n",
      "File \u001b[1;32m~\\anaconda3\\lib\\site-packages\\pandas\\io\\parsers\\readers.py:1446\u001b[0m, in \u001b[0;36mTextFileReader.close\u001b[1;34m(self)\u001b[0m\n\u001b[0;32m   1444\u001b[0m \u001b[38;5;28;01mdef\u001b[39;00m \u001b[38;5;21mclose\u001b[39m(\u001b[38;5;28mself\u001b[39m) \u001b[38;5;241m-\u001b[39m\u001b[38;5;241m>\u001b[39m \u001b[38;5;28;01mNone\u001b[39;00m:\n\u001b[0;32m   1445\u001b[0m     \u001b[38;5;28;01mif\u001b[39;00m \u001b[38;5;28mself\u001b[39m\u001b[38;5;241m.\u001b[39mhandles \u001b[38;5;129;01mis\u001b[39;00m \u001b[38;5;129;01mnot\u001b[39;00m \u001b[38;5;28;01mNone\u001b[39;00m:\n\u001b[1;32m-> 1446\u001b[0m         \u001b[38;5;28;43mself\u001b[39;49m\u001b[38;5;241;43m.\u001b[39;49m\u001b[43mhandles\u001b[49m\u001b[38;5;241;43m.\u001b[39;49m\u001b[43mclose\u001b[49m\u001b[43m(\u001b[49m\u001b[43m)\u001b[49m\n\u001b[0;32m   1447\u001b[0m     \u001b[38;5;28mself\u001b[39m\u001b[38;5;241m.\u001b[39m_engine\u001b[38;5;241m.\u001b[39mclose()\n",
      "File \u001b[1;32m~\\anaconda3\\lib\\site-packages\\pandas\\io\\common.py:125\u001b[0m, in \u001b[0;36mIOHandles.close\u001b[1;34m(self)\u001b[0m\n\u001b[0;32m    123\u001b[0m     \u001b[38;5;28mself\u001b[39m\u001b[38;5;241m.\u001b[39mcreated_handles\u001b[38;5;241m.\u001b[39mremove(\u001b[38;5;28mself\u001b[39m\u001b[38;5;241m.\u001b[39mhandle)\n\u001b[0;32m    124\u001b[0m \u001b[38;5;28;01mfor\u001b[39;00m handle \u001b[38;5;129;01min\u001b[39;00m \u001b[38;5;28mself\u001b[39m\u001b[38;5;241m.\u001b[39mcreated_handles:\n\u001b[1;32m--> 125\u001b[0m     \u001b[43mhandle\u001b[49m\u001b[38;5;241;43m.\u001b[39;49m\u001b[43mclose\u001b[49m\u001b[43m(\u001b[49m\u001b[43m)\u001b[49m\n\u001b[0;32m    126\u001b[0m \u001b[38;5;28mself\u001b[39m\u001b[38;5;241m.\u001b[39mcreated_handles \u001b[38;5;241m=\u001b[39m []\n\u001b[0;32m    127\u001b[0m \u001b[38;5;28mself\u001b[39m\u001b[38;5;241m.\u001b[39mis_wrapped \u001b[38;5;241m=\u001b[39m \u001b[38;5;28;01mFalse\u001b[39;00m\n",
      "\u001b[1;31mKeyboardInterrupt\u001b[0m: "
     ]
    }
   ],
   "source": [
    "\n",
    "#print(\"Before concatenation\")\n",
    "user_rating_list = []  # Re-initialize the list to store DataFrames\n",
    "\n",
    "for i in range(num_batches):\n",
    "    print(\"Loading batch no (\" + str(i) + \") from disk\")\n",
    "    batch_mov = pd.read_csv(output_dir + f\"batch_{i}.csv\")\n",
    "    user_rating_list.append(batch_mov)  # Append each batch DataFrame to the list\n",
    "    if i % 5==0:\n",
    "        print(\"Appending batch no (\" + str(i) + \") to user_rating\")\n",
    "        user_rating.append(user_rating_list)\n",
    "        user_rating_list = []\n",
    "\n",
    "#user_rating = pd.concat(user_rating_list, ignore_index=True)  # Concatenate all DataFrames from the list"
   ]
  },
  {
   "cell_type": "code",
   "execution_count": null,
   "id": "872e6838-1b5a-4d57-8518-6adbd37b2a47",
   "metadata": {},
   "outputs": [],
   "source": []
  },
  {
   "cell_type": "code",
   "execution_count": 1,
   "id": "0d16c587-2e00-43cb-ab2e-7354bfba772c",
   "metadata": {},
   "outputs": [
    {
     "ename": "NameError",
     "evalue": "name 'user_rating' is not defined",
     "output_type": "error",
     "traceback": [
      "\u001b[1;31m---------------------------------------------------------------------------\u001b[0m",
      "\u001b[1;31mNameError\u001b[0m                                 Traceback (most recent call last)",
      "Cell \u001b[1;32mIn[1], line 1\u001b[0m\n\u001b[1;32m----> 1\u001b[0m \u001b[43muser_rating\u001b[49m\u001b[38;5;241m.\u001b[39mhead()\n",
      "\u001b[1;31mNameError\u001b[0m: name 'user_rating' is not defined"
     ]
    }
   ],
   "source": [
    "user_rating.head()"
   ]
  },
  {
   "cell_type": "code",
   "execution_count": null,
   "id": "2a78bae3-e9a2-494d-863c-7fc7e11d2fd7",
   "metadata": {},
   "outputs": [],
   "source": []
  }
 ],
 "metadata": {
  "kernelspec": {
   "display_name": "Python 3 (ipykernel)",
   "language": "python",
   "name": "python3"
  },
  "language_info": {
   "codemirror_mode": {
    "name": "ipython",
    "version": 3
   },
   "file_extension": ".py",
   "mimetype": "text/x-python",
   "name": "python",
   "nbconvert_exporter": "python",
   "pygments_lexer": "ipython3",
   "version": "3.10.9"
  }
 },
 "nbformat": 4,
 "nbformat_minor": 5
}
